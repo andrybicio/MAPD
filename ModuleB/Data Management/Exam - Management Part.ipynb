{
 "cells": [
  {
   "cell_type": "markdown",
   "metadata": {},
   "source": [
    "# MAPD - B\n",
    "## Management Data Part\n",
    "\n",
    "\n",
    "\n",
    "**Author**: \n",
    "+ Andrea Nicolai (1233407)\n",
    "+ Sandeep Kumar Shekhar (1236227)"
   ]
  },
  {
   "cell_type": "markdown",
   "metadata": {},
   "source": [
    "#### Fun exercises Solution\n",
    "\n",
    "We were asked to find the relation holding in the following image, thus finding at first the relationship and then computing the result.\n",
    "\n",
    "![Assignment](img/00Fun.png)\n",
    "\n",
    "The relationship holding is the **XOR** function (in Python denoted as \"^\"). Indeed:"
   ]
  },
  {
   "cell_type": "code",
   "execution_count": 2,
   "metadata": {},
   "outputs": [
    {
     "name": "stdout",
     "output_type": "stream",
     "text": [
      "Row one: 1 + 2 = 3\n",
      "Row two: 2 + 5 = 7\n",
      "Row three: 3 + 7 = 4\n",
      "Row four: 4 + 5 = 1\n",
      "Row five: 5 + 9 = 12\n"
     ]
    }
   ],
   "source": [
    "print(\"Row one: 1 + 2 =\", 1^2)\n",
    "print(\"Row two: 2 + 5 =\", 2^5)\n",
    "print(\"Row three: 3 + 7 =\", 3^7)\n",
    "print(\"Row four: 4 + 5 =\", 4^5)\n",
    "print(\"Row five: 5 + 9 =\", 5^9)"
   ]
  },
  {
   "cell_type": "markdown",
   "metadata": {},
   "source": [
    "# TOPIC: redundancy"
   ]
  },
  {
   "cell_type": "markdown",
   "metadata": {},
   "source": [
    "We are programming a file based RAID-4 software algorithm. For this purpose we are converting a single input (**raid4.input**) file into four data files *raid4.0*, *raid4.1*, *raid4.2*, *raid4.3* and one *parity* file *raid4.4* - the four data and one parity file we call ‘stripe files’. "
   ]
  },
  {
   "cell_type": "code",
   "execution_count": 28,
   "metadata": {},
   "outputs": [],
   "source": [
    "#import the required packages to make requests and create new folders\n",
    "import os\n",
    "import errno\n",
    "import requests\n",
    "import numpy as np\n",
    "import matplotlib.pyplot as plt\n",
    "import json\n",
    "import random\n",
    "import time\n",
    "import unittest"
   ]
  },
  {
   "cell_type": "code",
   "execution_count": 36,
   "metadata": {},
   "outputs": [
    {
     "name": "stdout",
     "output_type": "stream",
     "text": [
      "File has been correctly downloaded. Size in bytes is:  170619\n"
     ]
    }
   ],
   "source": [
    "#Create a folder \"data\" for the input file\n",
    "try:\n",
    "    os.makedirs(\"data\")\n",
    "except OSError as e:\n",
    "    if e.errno != errno.EEXIST:\n",
    "        raise\n",
    "\n",
    "#Download the input file and save it into the folder \"data\"\n",
    "url = 'https://apeters.web.cern.ch/apeters/pd2021/raid4.input'\n",
    "req = requests.get(url, allow_redirects=True)\n",
    "input_file = \"data/raid4.input\"\n",
    "\n",
    "file_size_input = open(input_file, \"wb\").write(req.content)\n",
    "print(\"File has been correctly downloaded. Size in bytes is: \", file_size_input)"
   ]
  },
  {
   "cell_type": "markdown",
   "metadata": {},
   "source": [
    "We need now to sequentially compute, for every step, the parity of 4 bytes from the input file *raid4.input*. Every byte read is cyclically written onto files *raid4.0*, *raid4.1*, *raid4.2*, *raid4.3*, and the result of the parity operation is written onto  *raid4.4*. "
   ]
  },
  {
   "cell_type": "code",
   "execution_count": 37,
   "metadata": {},
   "outputs": [],
   "source": [
    "#Number of files needed + the one storing the parity operation\n",
    "N = 4\n",
    "filenames_list = [\"data/raid4.\"+ str(i) for i in range(N + 1)]\n",
    "files_list = [open(filename, \"wb\") for filename in filenames_list]"
   ]
  },
  {
   "cell_type": "code",
   "execution_count": 38,
   "metadata": {},
   "outputs": [],
   "source": [
    "#Open the input file and read a block of N bytes\n",
    "with open(input_file, \"rb\") as f:\n",
    "    #read very first block\n",
    "    single_block = f.read(N) \n",
    "    \n",
    "    #do the job\n",
    "    while single_block:\n",
    "        BP = 0\n",
    "        #padding in case of need (should happen only in the very last block)\n",
    "        single_block += b'\\0' * (N - len(single_block))\n",
    "        #compute the parity and write sequentially into files\n",
    "        for i in range(N):\n",
    "            BP ^= single_block[i]\n",
    "        #it has to be casted to bytes since each element of a \"byte\" sequence is an \"int\"\n",
    "        for i in range(N):\n",
    "            files_list[i].write(single_block[i].to_bytes(1, byteorder='big'))\n",
    "        files_list[-1].write(BP.to_bytes(1, byteorder='big'))\n",
    "        \n",
    "        #update the \"new\" block and read new one\n",
    "        single_block = f.read(N)"
   ]
  },
  {
   "cell_type": "markdown",
   "metadata": {},
   "source": [
    "We now extend the program to compute parity of all bytes within a single stripe file, thus computing its *column-wise parity*. This quantity will work as a **checksum** for each stripe file. "
   ]
  },
  {
   "cell_type": "code",
   "execution_count": 39,
   "metadata": {},
   "outputs": [],
   "source": [
    "def column_wise_parity(filename):\n",
    "    with open(filename, 'rb') as f:\n",
    "        #initialization\n",
    "        BP = 0\n",
    "        byte = f.read(1)\n",
    "        \n",
    "        #do the job\n",
    "        while byte != b\"\":\n",
    "            BP ^= byte[0]\n",
    "            byte = f.read(1)\n",
    "            \n",
    "        f.close()\n",
    "    return hex(BP)"
   ]
  },
  {
   "cell_type": "code",
   "execution_count": 40,
   "metadata": {},
   "outputs": [
    {
     "name": "stdout",
     "output_type": "stream",
     "text": [
      "File raid4.0 has column-wise parity: 0xa5\n",
      "File raid4.1 has column-wise parity: 0x7\n",
      "File raid4.2 has column-wise parity: 0xa0\n",
      "File raid4.3 has column-wise parity: 0x9c\n",
      "File raid4.4 has column-wise parity: 0x9e\n",
      "Total overhead is: 25.0007326265%\n",
      "By construction all stripe files shall be of the same length:   [42655, 42655, 42655, 42655, 42655]\n"
     ]
    }
   ],
   "source": [
    "parity_list = []\n",
    "files_list = [open(filename, \"rb\") for filename in filenames_list]\n",
    "\n",
    "for i, filename in enumerate(filenames_list):\n",
    "    \n",
    "    parity_list.append(column_wise_parity(filename))\n",
    "    print(\"File raid4.\"+str(i)+\" has column-wise parity:\", hex(int(parity_list[i],16)))\n",
    "\n",
    "sizes = [os.path.getsize(filename) for filename in filenames_list]\n",
    "overhead = sum(np.array(sizes)/file_size_input) - 1    \n",
    "print(\"Total overhead is: {:.10f}%\".format(100*overhead))\n",
    "print(\"By construction all stripe files shall be of the same length:  \", sizes)"
   ]
  },
  {
   "cell_type": "markdown",
   "metadata": {},
   "source": [
    "Here we can see that the total overhead asymptotically tends to 25%, being this valid since we might have introduced some padding zeros at the end of the strip files. In addition, the larger the input file the closer to 25% we would expect the total overhead to be. "
   ]
  },
  {
   "cell_type": "markdown",
   "metadata": {},
   "source": [
    "What is the **5-byte parity** value, if you write it it in hexadecimal format like:\n",
    "\n",
    "$$\n",
    "P^5 =0x[q_0][q_1][q_2][q_3][q_4]\n",
    "$$\n",
    "\n",
    "where the $[q_x]$ are the hexadecimal parity bytes computed by XOR-ing all bytes in each stripe file."
   ]
  },
  {
   "cell_type": "code",
   "execution_count": 41,
   "metadata": {},
   "outputs": [
    {
     "name": "stdout",
     "output_type": "stream",
     "text": [
      "5-bite parity is:  0xa507a09c9e\n"
     ]
    }
   ],
   "source": [
    "five_byte_parity = ( int(parity_list[0], 16) << 32 ) | ( int(parity_list[1], 16) << 24 )| ( int(parity_list[2], 16) << 16 ) | ( int (parity_list[3], 16) << 8) | int( parity_list[4], 16 )\n",
    "print(\"5-bite parity is: \", hex(five_byte_parity))"
   ]
  },
  {
   "cell_type": "markdown",
   "metadata": {},
   "source": [
    "If you create a sixth stripe file, which contains the **row-wise parities** of the five stripe files, what would be the contents of this file?\n",
    "\n",
    "Given the fact that the last stripe file we introduced (i.e. *raid4.4*) already contains the row-wise parities of the other files, we expect this new sixth file to contain only zeroes. Indeed, applying the parity operator to every row-parity already computed present in *raid4.4*, reduces to computing the parity operator of every value with itself, thus leading to all zeroes.\n",
    "\n",
    "Introducing $b_i^{(j)}$ as the $i$-th byte of *raid4.j*, where $j \\in \\{0,1,2,3\\}$, while being $p_i$ the $i$-th byte of *raid4.4*, it holds that:\n",
    "\n",
    "$$p_i = \\bigoplus_{j=0}^{3} b_i^{(j)}$$\n",
    "\n",
    "Finally, denoting with $d_i$ the $i$-th byte of the new stripe:\n",
    "\n",
    "$$ d_i = \\left( \\bigoplus_{j=0}^{3} b_i^{(j)} \\right) \\oplus p_i = \\bigoplus_{j=0}^{3} b_i^{(j)} \\oplus \\bigoplus_{j=0}^{3} b_i^{(j)} = 0 \\qquad \\forall i$$ \n",
    "\n",
    "Let us show it:"
   ]
  },
  {
   "cell_type": "code",
   "execution_count": 42,
   "metadata": {},
   "outputs": [],
   "source": [
    "files_list = [open(filename, \"rb\") for filename in filenames_list]\n",
    "output_path = 'data/raid4.'+str(N+1)\n",
    "output_file = open(output_path, \"wb\")\n",
    "\n",
    "#Open the input file and read a block of N bytes\n",
    "with open(input_file, \"rb\") as f:\n",
    "    single_block = f.read(N) \n",
    "    \n",
    "    while single_block:\n",
    "        \n",
    "        BP = 0\n",
    "        new_BP = 0\n",
    "        \n",
    "        single_block += b'\\0' * (N - len(single_block))\n",
    "        for i in range(N):\n",
    "            BP     ^= single_block[i]\n",
    "            new_BP ^= single_block[i]\n",
    "            \n",
    "        new_BP ^= BP\n",
    "        \n",
    "        output_file.write(new_BP.to_bytes(1, byteorder='big'))\n",
    "        single_block = f.read(N)\n",
    "        \n",
    "#Close the files\n",
    "for file in files_list: \n",
    "    file.close()\n",
    "output_file.close()"
   ]
  },
  {
   "cell_type": "code",
   "execution_count": 43,
   "metadata": {},
   "outputs": [
    {
     "name": "stdout",
     "output_type": "stream",
     "text": [
      "If what we told is correct, then counter should return zero since all elements have to zeroes ->  0\n"
     ]
    }
   ],
   "source": [
    "counter = 0\n",
    "with open(output_path, \"rb\") as f:\n",
    "    byte = f.read(1)\n",
    "    while byte != b\"\":\n",
    "        counter += byte[0]\n",
    "        byte = f.read(1)\n",
    "\n",
    "print(\"If what we told is correct, then counter should return zero since all elements have to zeroes -> \", counter)"
   ]
  },
  {
   "cell_type": "markdown",
   "metadata": {},
   "source": [
    "After some time you recompute the 5-byte parity value as before. Now the result is: \n",
    "\n",
    "$$P^5 = 0x\\ a5\\ 07\\ a0\\ 01\\ 9e$$\n",
    "\n",
    "This means something has been corrupted. You want to reconstruct the original file *raid4.input* using the 5 stripe files.\n",
    " + Describe how you can recreate the original data file. \n",
    " + Which stripe files do you use and how do you recreate the original data file with the correct size? "
   ]
  },
  {
   "cell_type": "markdown",
   "metadata": {},
   "source": [
    "As a first step we should compare the two 5-bytes-parities, checking in this way in which file(s) the error has occurred. "
   ]
  },
  {
   "cell_type": "code",
   "execution_count": 44,
   "metadata": {},
   "outputs": [
    {
     "name": "stdout",
     "output_type": "stream",
     "text": [
      "5-bite parity previously computed is:  0xa507a09c9e\n"
     ]
    }
   ],
   "source": [
    "print(\"5-bite parity previously computed is: \", hex(five_byte_parity))"
   ]
  },
  {
   "cell_type": "markdown",
   "metadata": {},
   "source": [
    "We are lucky that the corruption occurred only in one file, namely the fourth one (denoted by *raid4.3*), since it would be improbable that random errors have occurred in such way that other parities would remain the same. Having said so, we can retrieve the content of the corrupted file value by performing some operations with the remaining stripe files (*raid4.0*, *raid4.1*, *raid4.2*, *raid4.4* ). We will iterate over every byte and every file, after we have checked (see above) that all files have equal length. The output will finally have the same length as the file we have used to retrieve it. \n",
    "\n",
    "From how $b_4$ was constructed:\n",
    "\n",
    "$$b_i^{(4)} =  b_i^{(0)} \\oplus b_i^{(1)} \\oplus b_i^{(2)} \\oplus b_i^{(3)}$$\n",
    "\n",
    "We can exploit XOR associativity and commutativity, and keeping in mind that $b_i^{(j)} \\oplus b_i^{(j)} = 0$, in such way that we are able to compute $b_i^{(3)}$:\n",
    "\n",
    "$$ b_i^{(2)} \\oplus b_i^{(1)} \\oplus b_i^{(0)}  \\oplus b_i^{(4)} =  b_i^{(3)}$$\n",
    "\n",
    "Let us prove whether the algorithm works:"
   ]
  },
  {
   "cell_type": "code",
   "execution_count": 45,
   "metadata": {},
   "outputs": [
    {
     "name": "stdout",
     "output_type": "stream",
     "text": [
      "Successfully reconstructed corrupted file\n"
     ]
    }
   ],
   "source": [
    "files_list = [open(filename, \"rb\") for filename in filenames_list]\n",
    "\n",
    "for byte in range(sizes[0]):\n",
    "    #\"corrupted\" stripe file is the 4-th one, denoted by index 3\n",
    "    ground_truth = files_list[3].read(1)[0]\n",
    "    \n",
    "    BP = 0\n",
    "    BP ^= files_list[0].read(1)[0]\n",
    "    BP ^= files_list[1].read(1)[0]\n",
    "    BP ^= files_list[2].read(1)[0]\n",
    "    BP ^= files_list[4].read(1)[0]\n",
    "    \n",
    "    try:\n",
    "        np.testing.assert_equal(BP, ground_truth)        \n",
    "    except:\n",
    "        print(\"Reconstruction algorithm is not correct!\")\n",
    "        break\n",
    "\n",
    "#Close the files\n",
    "for file in files_list: \n",
    "    file.close()\n",
    "if (BP == ground_truth): \n",
    "    print(\"Successfully reconstructed corrupted file\")"
   ]
  },
  {
   "cell_type": "markdown",
   "metadata": {},
   "source": [
    "# TOPIC: Cryptography\n",
    "\n",
    "The Caesar cipher is named for Julius Caesar, who used an alphabet where decrypting would shift three letters to the left. \n",
    "A friend has emailed you the following text:\n",
    "\n",
    "**K]amua!trgpy** \n",
    "\n",
    "She told you that her encryption algorithm works similar to the Caesar cipher: \n",
    "\n",
    "+ to each ASCI value of each letter I add a secret key value. (note that ASCII values range from 0 to 255)\n",
    "+ additionally to make it more secure I add a variable (so called) nonce value to each ASCII number. The nonce start value is 5 for the first character of the message. For each following character add 1 to the nonce of the previous character, e.g. for the second letter the nonce added is 6, for the third letter it is 7 and so on. "
   ]
  },
  {
   "cell_type": "code",
   "execution_count": 47,
   "metadata": {},
   "outputs": [],
   "source": [
    "message_encrypted = 'K]amua!trgpy'"
   ]
  },
  {
   "cell_type": "markdown",
   "metadata": {},
   "source": [
    "Is this symmetric or asymmetric encryption and explain why?"
   ]
  },
  {
   "cell_type": "markdown",
   "metadata": {},
   "source": [
    "It is a **symmetric** encryption, since both encoding and decoding occur using a unique key."
   ]
  },
  {
   "cell_type": "markdown",
   "metadata": {},
   "source": [
    "Write a small brute force program which tests keys from 0..255 and use a dictionary approach to figure out the original message. In Python you can use the ord() function to get an integer representation of a character and the chr() to retrieve a character string from an integer!"
   ]
  },
  {
   "cell_type": "code",
   "execution_count": 48,
   "metadata": {},
   "outputs": [
    {
     "name": "stdout",
     "output_type": "stream",
     "text": [
      "Original text     :  K]amua!trgpy\n",
      "Encoded ASCII text:  [ 75  93  97 109 117  97  33 116 114 103 112 121]\n"
     ]
    }
   ],
   "source": [
    "nonce      = np.arange(5, len(message_encrypted) + 5, dtype = int)\n",
    "ASCII_text = np.array([ord(c) for c in message_encrypted])\n",
    "\n",
    "print('Original text     : ', message_encrypted)\n",
    "print('Encoded ASCII text: ', ASCII_text)"
   ]
  },
  {
   "cell_type": "code",
   "execution_count": 49,
   "metadata": {},
   "outputs": [],
   "source": [
    "# https://codeigo.com/python/english-dictionary\n",
    "#!pip install pyenchant"
   ]
  },
  {
   "cell_type": "markdown",
   "metadata": {},
   "source": [
    "From the data we were given, the **encription** should have occurred in the following way:\n",
    "\n",
    "$$\n",
    "  encrypted\\_char[i]   = real\\_char[i] + key + nonce[i]\n",
    "$$\n",
    "\n",
    "whereas the **decription** is simply a matter of reverting the formula, taking care to add 255 to ASCII which are below zero:\n",
    "\n",
    "$$\n",
    "    real\\_char[i] = encrypted\\_char[i] - key - nonce[i]\n",
    "$$"
   ]
  },
  {
   "cell_type": "code",
   "execution_count": 50,
   "metadata": {},
   "outputs": [],
   "source": [
    "import enchant\n",
    "english_dictionary = enchant.Dict(\"en\")\n",
    "message_length = len(nonce)\n",
    "\n",
    "#if the number is \"out of bounds\", then add 255 to it\n",
    "def check_out_of_range(element):\n",
    "    if element < 0:\n",
    "        return element + 255\n",
    "    else:\n",
    "        return element\n",
    "\n",
    "#get characters out of an array of ASCII numbers\n",
    "def array_to_char(array):\n",
    "    string = ''\n",
    "    for elem in array:\n",
    "        string += chr(elem)\n",
    "    return string"
   ]
  },
  {
   "cell_type": "code",
   "execution_count": 82,
   "metadata": {},
   "outputs": [
    {
     "name": "stdout",
     "output_type": "stream",
     "text": [
      "Decripted message is: FWZelW\u0016heYai  #### Key is: 0\n",
      "Decripted message is: EVYdkV\u0015gdX`h  #### Key is: 1\n",
      "Decripted message is: DUXcjU\u0014fcW_g  #### Key is: 2\n",
      "Decripted message is: CTWbiT\u0013ebV^f  #### Key is: 3\n",
      "Decripted message is: BSVahS\u0012daU]e  #### Key is: 4\n",
      "Decripted message is: ARU`gR\u0011c`T\\d  #### Key is: 5\n",
      "Decripted message is: @QT_fQ\u0010b_S[c  #### Key is: 6\n",
      "Decripted message is: ?PS^eP\u000fa^RZb  #### Key is: 7\n",
      "Decripted message is: >OR]dO\u000e`]QYa  #### Key is: 8\n",
      "Decripted message is: =NQ\\cN\r",
      "_\\PX`  #### Key is: 9\n",
      "Decripted message is: <MP[bM\f",
      "^[OW_  #### Key is: 10\n",
      "Decripted message is: ;LOZaL\u000b",
      "]ZNV^  #### Key is: 11\n",
      "Decripted message is: :KNY`K\n",
      "\\YMU]  #### Key is: 12\n",
      "Decripted message is: 9JMX_J\t[XLT\\  #### Key is: 13\n",
      "Decripted message is: 8ILW^I\bZWKS[  #### Key is: 14\n",
      "Decripted message is: 7HKV]H\u0007YVJRZ  #### Key is: 15\n",
      "Decripted message is: 6GJU\\G\u0006XUIQY  #### Key is: 16\n",
      "Decripted message is: 5FIT[F\u0005WTHPX  #### Key is: 17\n",
      "Decripted message is: 4EHSZE\u0004VSGOW  #### Key is: 18\n",
      "Decripted message is: 3DGRYD\u0003URFNV  #### Key is: 19\n",
      "Decripted message is: 2CFQXC\u0002TQEMU  #### Key is: 20\n",
      "Decripted message is: 1BEPWB\u0001SPDLT  #### Key is: 21\n",
      "Decripted message is: 0ADOVA\u0000ROCKS  #### Key is: 22\n",
      "Decripted message is: /@CNU@þQNBJR  #### Key is: 23\n",
      "Decripted message is: .?BMT?ýPMAIQ  #### Key is: 24\n",
      "Decripted message is: ->ALS>üOL@HP  #### Key is: 25\n",
      "Decripted message is: ,=@KR=ûNK?GO  #### Key is: 26\n",
      "Decripted message is: +<?JQ<úMJ>FN  #### Key is: 27\n",
      "Decripted message is: *;>IP;ùLI=EM  #### Key is: 28\n",
      "Decripted message is: ):=HO:øKH<DL  #### Key is: 29\n",
      "Decripted message is: (9<GN9÷JG;CK  #### Key is: 30\n",
      "Decripted message is: '8;FM8öIF:BJ  #### Key is: 31\n",
      "Decripted message is: &7:EL7õHE9AI  #### Key is: 32\n",
      "Decripted message is: %69DK6ôGD8@H  #### Key is: 33\n",
      "Decripted message is: $58CJ5óFC7?G  #### Key is: 34\n",
      "Decripted message is: #47BI4òEB6>F  #### Key is: 35\n",
      "Decripted message is: \"36AH3ñDA5=E  #### Key is: 36\n",
      "Decripted message is: !25@G2ðC@4<D  #### Key is: 37\n",
      "Decripted message is:  14?F1ïB?3;C  #### Key is: 38\n",
      "Decripted message is: \u001f03>E0îA>2:B  #### Key is: 39\n",
      "Decripted message is: \u001e",
      "/2=D/í@=19A  #### Key is: 40\n",
      "Decripted message is: \u001d",
      ".1<C.ì?<08@  #### Key is: 41\n",
      "Decripted message is: \u001c",
      "-0;B-ë>;/7?  #### Key is: 42\n",
      "Decripted message is: \u001b,/:A,ê=:.6>  #### Key is: 43\n",
      "Decripted message is: \u001a+.9@+é<9-5=  #### Key is: 44\n",
      "Decripted message is: \u0019*-8?*è;8,4<  #### Key is: 45\n",
      "Decripted message is: \u0018),7>)ç:7+3;  #### Key is: 46\n",
      "Decripted message is: \u0017(+6=(æ96*2:  #### Key is: 47\n",
      "Decripted message is: \u0016'*5<'å85)19  #### Key is: 48\n",
      "Decripted message is: \u0015&)4;&ä74(08  #### Key is: 49\n",
      "Decripted message is: \u0014%(3:%ã63'/7  #### Key is: 50\n",
      "Decripted message is: \u0013$'29$â52&.6  #### Key is: 51\n",
      "Decripted message is: \u0012#&18#á41%-5  #### Key is: 52\n",
      "Decripted message is: \u0011\"%07\"à30$,4  #### Key is: 53\n",
      "Decripted message is: \u0010!$/6!ß2/#+3  #### Key is: 54\n",
      "Decripted message is: \u000f #.5 Þ1.\"*2  #### Key is: 55\n",
      "Decripted message is: \u000e\u001f\"-4\u001fÝ0-!)1  #### Key is: 56\n",
      "Decripted message is: \r",
      "\u001e",
      "!,3\u001e",
      "Ü/, (0  #### Key is: 57\n",
      "Decripted message is: \f",
      "\u001d",
      " +2\u001d",
      "Û.+\u001f'/  #### Key is: 58\n",
      "Decripted message is: \u000b",
      "\u001c",
      "\u001f*1\u001c",
      "Ú-*\u001e",
      "&.  #### Key is: 59\n",
      "Decripted message is: \n",
      "\u001b\u001e",
      ")0\u001bÙ,)\u001d",
      "%-  #### Key is: 60\n",
      "Decripted message is: \t\u001a\u001d",
      "(/\u001aØ+(\u001c",
      "$,  #### Key is: 61\n",
      "Decripted message is: \b\u0019\u001c",
      "'.\u0019×*'\u001b#+  #### Key is: 62\n",
      "Decripted message is: \u0007\u0018\u001b&-\u0018Ö)&\u001a\"*  #### Key is: 63\n",
      "Decripted message is: \u0006\u0017\u001a%,\u0017Õ(%\u0019!)  #### Key is: 64\n",
      "Decripted message is: \u0005\u0016\u0019$+\u0016Ô'$\u0018 (  #### Key is: 65\n",
      "Decripted message is: \u0004\u0015\u0018#*\u0015Ó&#\u0017\u001f'  #### Key is: 66\n",
      "Decripted message is: \u0003\u0014\u0017\")\u0014Ò%\"\u0016\u001e",
      "&  #### Key is: 67\n",
      "Decripted message is: \u0002\u0013\u0016!(\u0013Ñ$!\u0015\u001d",
      "%  #### Key is: 68\n",
      "Decripted message is: \u0001\u0012\u0015 '\u0012Ð# \u0014\u001c",
      "$  #### Key is: 69\n",
      "Decripted message is: \u0000\u0011\u0014\u001f&\u0011Ï\"\u001f\u0013\u001b#  #### Key is: 70\n",
      "Decripted message is: þ\u0010\u0013\u001e",
      "%\u0010Î!\u001e",
      "\u0012\u001a\"  #### Key is: 71\n",
      "Decripted message is: ý\u000f\u0012\u001d",
      "$\u000fÍ \u001d",
      "\u0011\u0019!  #### Key is: 72\n",
      "Decripted message is: ü\u000e\u0011\u001c",
      "#\u000eÌ\u001f\u001c",
      "\u0010\u0018   #### Key is: 73\n",
      "Decripted message is: û\r",
      "\u0010\u001b\"\r",
      "Ë\u001e",
      "\u001b\u000f\u0017\u001f  #### Key is: 74\n",
      "Decripted message is: ú\f",
      "\u000f\u001a!\f",
      "Ê\u001d",
      "\u001a\u000e\u0016\u001e",
      "  #### Key is: 75\n",
      "Decripted message is: ù\u000b",
      "\u000e\u0019 \u000b",
      "É\u001c",
      "\u0019\r",
      "\u0015\u001d",
      "  #### Key is: 76\n",
      "Decripted message is: ø\n",
      "\r",
      "\u0018\u001f\n",
      "È\u001b\u0018\f",
      "\u0014\u001c",
      "  #### Key is: 77\n",
      "Decripted message is: ÷\t\f",
      "\u0017\u001e",
      "\tÇ\u001a\u0017\u000b",
      "\u0013\u001b  #### Key is: 78\n",
      "Decripted message is: ö\b\u000b",
      "\u0016\u001d",
      "\bÆ\u0019\u0016\n",
      "\u0012\u001a  #### Key is: 79\n",
      "Decripted message is: õ\u0007\n",
      "\u0015\u001c",
      "\u0007Å\u0018\u0015\t\u0011\u0019  #### Key is: 80\n",
      "Decripted message is: ô\u0006\t\u0014\u001b\u0006Ä\u0017\u0014\b\u0010\u0018  #### Key is: 81\n",
      "Decripted message is: ó\u0005\b\u0013\u001a\u0005Ã\u0016\u0013\u0007\u000f\u0017  #### Key is: 82\n",
      "Decripted message is: ò\u0004\u0007\u0012\u0019\u0004Â\u0015\u0012\u0006\u000e\u0016  #### Key is: 83\n",
      "Decripted message is: ñ\u0003\u0006\u0011\u0018\u0003Á\u0014\u0011\u0005\r",
      "\u0015  #### Key is: 84\n",
      "Decripted message is: ð\u0002\u0005\u0010\u0017\u0002À\u0013\u0010\u0004\f",
      "\u0014  #### Key is: 85\n",
      "Decripted message is: ï\u0001\u0004\u000f\u0016\u0001¿\u0012\u000f\u0003\u000b",
      "\u0013  #### Key is: 86\n",
      "Decripted message is: î\u0000\u0003\u000e\u0015\u0000¾\u0011\u000e\u0002\n",
      "\u0012  #### Key is: 87\n",
      "Decripted message is: íþ\u0002\r",
      "\u0014þ½\u0010\r",
      "\u0001\t\u0011  #### Key is: 88\n",
      "Decripted message is: ìý\u0001\f",
      "\u0013ý¼\u000f\f",
      "\u0000\b\u0010  #### Key is: 89\n",
      "Decripted message is: ëü\u0000\u000b",
      "\u0012ü»\u000e\u000b",
      "þ\u0007\u000f  #### Key is: 90\n",
      "Decripted message is: êûþ\n",
      "\u0011ûº\r\n",
      "ý\u0006\u000e  #### Key is: 91\n",
      "Decripted message is: éúý\t\u0010ú¹\f",
      "\tü\u0005\r",
      "  #### Key is: 92\n",
      "Decripted message is: èùü\b\u000fù¸\u000b",
      "\bû\u0004\f",
      "  #### Key is: 93\n",
      "Decripted message is: çøû\u0007\u000eø·\n",
      "\u0007ú\u0003\u000b",
      "  #### Key is: 94\n",
      "Decripted message is: æ÷ú\u0006\r",
      "÷¶\t\u0006ù\u0002\n",
      "  #### Key is: 95\n",
      "Decripted message is: åöù\u0005\f",
      "öµ\b\u0005ø\u0001\t  #### Key is: 96\n",
      "Decripted message is: äõø\u0004\u000b",
      "õ´\u0007\u0004÷\u0000\b  #### Key is: 97\n",
      "Decripted message is: ãô÷\u0003\n",
      "ô³\u0006\u0003öþ\u0007  #### Key is: 98\n",
      "Decripted message is: âóö\u0002\tó²\u0005\u0002õý\u0006  #### Key is: 99\n",
      "Decripted message is: áòõ\u0001\bò±\u0004\u0001ôü\u0005  #### Key is: 100\n",
      "Decripted message is: àñô\u0000\u0007ñ°\u0003\u0000óû\u0004  #### Key is: 101\n",
      "Decripted message is: ßðóþ\u0006ð¯\u0002þòú\u0003  #### Key is: 102\n",
      "Decripted message is: Þïòý\u0005ï®\u0001ýñù\u0002  #### Key is: 103\n",
      "Decripted message is: Ýîñü\u0004î­\u0000üðø\u0001  #### Key is: 104\n",
      "Decripted message is: Üíðû\u0003í¬þûï÷\u0000  #### Key is: 105\n",
      "Decripted message is: Ûìïú\u0002ì«ýúîöþ  #### Key is: 106\n",
      "Decripted message is: Úëîù\u0001ëªüùíõý  #### Key is: 107\n",
      "Decripted message is: Ùêíø\u0000ê©ûøìôü  #### Key is: 108\n",
      "Decripted message is: Øéì÷þé¨ú÷ëóû  #### Key is: 109\n",
      "Decripted message is: ×èëöýè§ùöêòú  #### Key is: 110\n",
      "Decripted message is: Öçêõüç¦øõéñù  #### Key is: 111\n",
      "Decripted message is: Õæéôûæ¥÷ôèðø  #### Key is: 112\n",
      "Decripted message is: Ôåèóúå¤öóçï÷  #### Key is: 113\n",
      "Decripted message is: Óäçòùä£õòæîö  #### Key is: 114\n",
      "Decripted message is: Òãæñøã¢ôñåíõ  #### Key is: 115\n",
      "Decripted message is: Ñâåð÷â¡óðäìô  #### Key is: 116\n",
      "Decripted message is: Ðáäïöá òïãëó  #### Key is: 117\n",
      "Decripted message is: Ïàãîõàñîâêò  #### Key is: 118\n",
      "Decripted message is: Îßâíôßðíáéñ  #### Key is: 119\n",
      "Decripted message is: ÍÞáìóÞïìàèð  #### Key is: 120\n",
      "Decripted message is: ÌÝàëòÝîëßçï  #### Key is: 121\n",
      "Decripted message is: ËÜßêñÜíêÞæî  #### Key is: 122\n",
      "Decripted message is: ÊÛÞéðÛìéÝåí  #### Key is: 123\n",
      "Decripted message is: ÉÚÝèïÚëèÜäì  #### Key is: 124\n",
      "Decripted message is: ÈÙÜçîÙêçÛãë  #### Key is: 125\n",
      "Decripted message is: ÇØÛæíØéæÚâê  #### Key is: 126\n",
      "Decripted message is: Æ×Úåì×èåÙáé  #### Key is: 127\n",
      "Decripted message is: ÅÖÙäëÖçäØàè  #### Key is: 128\n",
      "Decripted message is: ÄÕØãêÕæã×ßç  #### Key is: 129\n",
      "Decripted message is: ÃÔ×âéÔåâÖÞæ  #### Key is: 130\n",
      "Decripted message is: ÂÓÖáèÓäáÕÝå  #### Key is: 131\n",
      "Decripted message is: ÁÒÕàçÒãàÔÜä  #### Key is: 132\n",
      "Decripted message is: ÀÑÔßæÑâßÓÛã  #### Key is: 133\n",
      "Decripted message is: ¿ÐÓÞåÐáÞÒÚâ  #### Key is: 134\n",
      "Decripted message is: ¾ÏÒÝäÏàÝÑÙá  #### Key is: 135\n",
      "Decripted message is: ½ÎÑÜãÎßÜÐØà  #### Key is: 136\n",
      "Decripted message is: ¼ÍÐÛâÍÞÛÏ×ß  #### Key is: 137\n",
      "Decripted message is: »ÌÏÚáÌÝÚÎÖÞ  #### Key is: 138\n",
      "Decripted message is: ºËÎÙàËÜÙÍÕÝ  #### Key is: 139\n",
      "Decripted message is: ¹ÊÍØßÊÛØÌÔÜ  #### Key is: 140\n",
      "Decripted message is: ¸ÉÌ×ÞÉÚ×ËÓÛ  #### Key is: 141\n",
      "Decripted message is: ·ÈËÖÝÈÙÖÊÒÚ  #### Key is: 142\n",
      "Decripted message is: ¶ÇÊÕÜÇØÕÉÑÙ  #### Key is: 143\n",
      "Decripted message is: µÆÉÔÛÆ",
      "×ÔÈÐØ  #### Key is: 144\n",
      "Decripted message is: ´ÅÈÓÚÅÖÓÇÏ×  #### Key is: 145\n",
      "Decripted message is: ³ÄÇÒÙÄÕÒÆÎÖ  #### Key is: 146\n",
      "Decripted message is: ²ÃÆÑØÃÔÑÅÍÕ  #### Key is: 147\n",
      "Decripted message is: ±ÂÅÐ×ÂÓÐÄÌÔ  #### Key is: 148\n",
      "Decripted message is: °ÁÄÏÖÁÒÏÃËÓ  #### Key is: 149\n",
      "Decripted message is: ¯ÀÃÎÕÀÑÎÂÊÒ  #### Key is: 150\n",
      "Decripted message is: ®¿ÂÍÔ¿~ÐÍÁÉÑ  #### Key is: 151\n",
      "Decripted message is: ­¾ÁÌÓ¾}ÏÌÀÈÐ  #### Key is: 152\n",
      "Decripted message is: ¬½ÀËÒ½|ÎË¿ÇÏ  #### Key is: 153\n",
      "Decripted message is: «¼¿ÊÑ¼{ÍÊ¾ÆÎ  #### Key is: 154\n",
      "Decripted message is: ª»¾ÉÐ»zÌÉ½ÅÍ  #### Key is: 155\n",
      "Decripted message is: ©º½ÈÏºyËÈ¼ÄÌ  #### Key is: 156\n",
      "Decripted message is: ¨¹¼ÇÎ¹xÊÇ»ÃË  #### Key is: 157\n",
      "Decripted message is: §¸»ÆÍ¸wÉÆºÂÊ  #### Key is: 158\n",
      "Decripted message is: ¦·ºÅÌ·vÈÅ¹ÁÉ  #### Key is: 159\n",
      "Decripted message is: ¥¶¹ÄË¶uÇÄ¸ÀÈ  #### Key is: 160\n",
      "Decripted message is: ¤µ¸ÃÊµtÆÃ·¿Ç  #### Key is: 161\n",
      "Decripted message is: £´·ÂÉ´sÅÂ¶¾Æ  #### Key is: 162\n",
      "Decripted message is: ¢³¶ÁÈ³rÄÁµ½Å  #### Key is: 163\n",
      "Decripted message is: ¡²µÀÇ²qÃÀ´¼Ä  #### Key is: 164\n",
      "Decripted message is:  ±´¿Æ±pÂ¿³»Ã  #### Key is: 165\n",
      "Decripted message is: °³¾Å°oÁ¾²ºÂ  #### Key is: 166\n",
      "Decripted message is: ¯²½Ä¯nÀ½±¹Á  #### Key is: 167\n",
      "Decripted message is: ®±¼Ã®m¿¼°¸À  #### Key is: 168\n",
      "Decripted message is: ­°»Â­l¾»¯·¿  #### Key is: 169\n",
      "Decripted message is: ¬¯ºÁ¬k½º®¶¾  #### Key is: 170\n",
      "Decripted message is: «®¹À«j¼¹­µ½  #### Key is: 171\n",
      "Decripted message is: ª­¸¿ªi»¸¬´¼  #### Key is: 172\n",
      "Decripted message is: ©¬·¾©hº·«³»  #### Key is: 173\n",
      "Decripted message is: ¨«¶½¨g¹¶ª²º  #### Key is: 174\n",
      "Decripted message is: §ªµ¼§f¸µ©±¹  #### Key is: 175\n",
      "Decripted message is: ¦©´»¦e·´¨°¸  #### Key is: 176\n",
      "Decripted message is: ¥¨³º¥d¶³§¯·  #### Key is: 177\n",
      "Decripted message is: ¤§²¹¤cµ²¦®¶  #### Key is: 178\n",
      "Decripted message is: £¦±¸£b´±¥­µ  #### Key is: 179\n",
      "Decripted message is: ¢¥°·¢a³°¤¬´  #### Key is: 180\n",
      "Decripted message is: ¡¤¯¶¡`²¯£«³  #### Key is: 181\n",
      "Decripted message is:  £®µ _±®¢ª²  #### Key is: 182\n",
      "Decripted message is: ¢­´^°­¡©±  #### Key is: 183\n",
      "Decripted message is: ¡¬³]¯¬ ¨°  #### Key is: 184\n",
      "Decripted message is:  «²\\®«§¯  #### Key is: 185\n",
      "Decripted message is: ª±[­ª¦®  #### Key is: 186\n",
      "Decripted message is: ©°Z¬©¥­  #### Key is: 187\n",
      "Decripted message is: ¨¯Y«¨¤¬  #### Key is: 188\n",
      "Decripted message is: §®Xª§£«  #### Key is: 189\n",
      "Decripted message is: ¦­W©¦¢ª  #### Key is: 190\n",
      "Decripted message is: ¥¬V¨¥¡©  #### Key is: 191\n",
      "Decripted message is: ",
      "¤«U§¤ ¨  #### Key is: 192\n",
      "Decripted message is: £ªT¦£§  #### Key is: 193\n",
      "Decripted message is: ¢©S¥¢¦  #### Key is: 194\n",
      "Decripted message is: ¡¨R¤¡¥  #### Key is: 195\n",
      "Decripted message is:  §Q£ ¤  #### Key is: 196\n",
      "Decripted message is: ¦P¢£  #### Key is: 197\n",
      "Decripted message is: ¥O¡¢  #### Key is: 198\n",
      "Decripted message is: ~¤N ¡  #### Key is: 199\n",
      "Decripted message is: }£M   #### Key is: 200\n",
      "Decripted message is: |¢L  #### Key is: 201\n",
      "Decripted message is: {¡K  #### Key is: 202\n",
      "Decripted message is: z J  #### Key is: 203\n",
      "Decripted message is: yI  #### Key is: 204\n",
      "Decripted message is: xH  #### Key is: 205\n",
      "Decripted message is: wG  #### Key is: 206\n",
      "Decripted message is: vF  #### Key is: 207\n",
      "Decripted message is: uE  #### Key is: 208\n",
      "Decripted message is: t",
      "",
      "D  #### Key is: 209\n",
      "Decripted message is: sC  #### Key is: 210\n",
      "Decripted message is: rB",
      "  #### Key is: 211\n",
      "Decripted message is: q",
      "A  #### Key is: 212\n",
      "Decripted message is: p@  #### Key is: 213\n",
      "Decripted message is: o?  #### Key is: 214\n",
      "Decripted message is: n>  #### Key is: 215\n",
      "Decripted message is: m~~=  #### Key is: 216\n",
      "Decripted message is: l}}<  #### Key is: 217\n",
      "Decripted message is: k||;~  #### Key is: 218\n",
      "Decripted message is: j{~{:}",
      "  #### Key is: 219\n",
      "Decripted message is: iz}z9|  #### Key is: 220\n",
      "Decripted message is: hy|y8{  #### Key is: 221\n",
      "Decripted message is: gx{x7z  #### Key is: 222\n",
      "Decripted message is: fwz",
      "w6",
      "y  #### Key is: 223\n",
      "Decripted message is: evyv5x  #### Key is: 224\n",
      "Decripted message is: duxu4w  #### Key is: 225\n",
      "Decripted message is: ctwt3",
      "v~  #### Key is: 226\n",
      "Decripted message is: bsvs2u}",
      "  #### Key is: 227\n",
      "Decripted message is: arur1t|  #### Key is: 228\n",
      "Decripted message is: `qtq0s{  #### Key is: 229\n",
      "Decripted message is: _ps~",
      "p/~rz  #### Key is: 230\n",
      "Decripted message is: ^or}o.}qy  #### Key is: 231\n",
      "Decripted message is: ]nq|n-|px  #### Key is: 232\n",
      "Decripted message is: \\mp{m,~{ow  #### Key is: 233\n",
      "Decripted message is: [lozl+}znv~  #### Key is: 234\n",
      "Decripted message is: Zknyk*|ymu}  #### Key is: 235\n",
      "Decripted message is: Yjmxj){xlt|  #### Key is: 236\n",
      "Decripted message is: Xilw~i(zwks{  #### Key is: 237\n",
      "Decripted message is: Whkv}h'yvjrz  #### Key is: 238\n",
      "Decripted message is: Vgju|g&xuiqy  #### Key is: 239\n",
      "Decripted message is: Ufit{f%wthpx  #### Key is: 240\n",
      "Decripted message is: Tehsze$vsgow  #### Key is: 241\n",
      "Decripted message is: Sdgryd#urfnv  #### Key is: 242\n",
      "Decripted message is: Rcfqxc\"tqemu  #### Key is: 243\n",
      "Decripted message is: Qbepwb!spdlt  #### Key is: 244\n",
      "Decripted message is: Padova rocks  #### Key is: 245\n",
      "Decripted message is: O`cnu`\u001fqnbjr  #### Key is: 246\n",
      "Decripted message is: N_bmt_\u001e",
      "pmaiq  #### Key is: 247\n",
      "Decripted message is: M^als^\u001d",
      "ol`hp  #### Key is: 248\n",
      "Decripted message is: L]`kr]\u001c",
      "nk_go  #### Key is: 249\n",
      "Decripted message is: K\\_jq\\\u001bmj^fn  #### Key is: 250\n",
      "Decripted message is: J[^ip[\u001ali]em  #### Key is: 251\n",
      "Decripted message is: IZ]hoZ\u0019kh\\dl  #### Key is: 252\n",
      "Decripted message is: HY\\gnY\u0018jg[ck  #### Key is: 253\n",
      "Decripted message is: GX[fmX\u0017ifZbj  #### Key is: 254\n",
      "Decripted message is: FWZelW\u0016heYai  #### Key is: 255\n"
     ]
    }
   ],
   "source": [
    "#brute force approach\n",
    "for key_val in range(256):\n",
    "    decr_mess = ASCII_text - nonce - key_val\n",
    "    decr_mess_ASCII = np.array([check_out_of_range(item) for item in decr_mess])\n",
    "    decr_mess_str = array_to_char(decr_mess_ASCII)\n",
    "    ###THIS \"BLOCK\" HAS TO BE EVENTUALLY COMMENTED SINCE LATEX WOULDN'T COMPILE BECAUSE OF UNKNOWN CHARACTERS \n",
    "    print(\"Decripted message is:\", decr_mess_str, \" #### Key is:\", key_val)"
   ]
  },
  {
   "cell_type": "markdown",
   "metadata": {},
   "source": [
    "Here one can see as the key is 245, whereas the original message was \"Padova rocks\". However, this approach becomes unfeasable pretty soon as the number of possible keys increases. Hence, something has to be thought and, in our case, this is represented by a **dictionary approach**."
   ]
  },
  {
   "cell_type": "markdown",
   "metadata": {},
   "source": [
    "Using a dictionary approach means to first tokenize the the string we obtain when having computed \"real_char\", and checking whether at least one of the words we get is present in English dictionary. Some stricter conditions, such for example that ALL (or more than 1) words must appear in an english dictionary can be implemented as well. Anyways, this avoids us to manually and visually check all \"decripted\" messages to check what is the actual one, thus risking to skip the correct one. Obviously, this can be done done only if we assume that our friend sends meaningful messages and in a properly spelled language..."
   ]
  },
  {
   "cell_type": "code",
   "execution_count": 55,
   "metadata": {},
   "outputs": [
    {
     "name": "stdout",
     "output_type": "stream",
     "text": [
      "Possible encripted message is:  Padova rocks  ###### Key is:  245\n",
      "[(245, 'Padova rocks')]\n"
     ]
    }
   ],
   "source": [
    "suitable_decrypted_messages = []\n",
    "\n",
    "for key_val in range(256):\n",
    "    decr_mess = ASCII_text - nonce - key_val\n",
    "    decr_mess_ASCII = np.array([check_out_of_range(item) for item in decr_mess])\n",
    "    decr_mess_str = array_to_char(decr_mess_ASCII)\n",
    "    \n",
    "    decr_mess_tokenized = decr_mess_str.split()\n",
    "    bool_present = False\n",
    "    \n",
    "    for word in decr_mess_tokenized:\n",
    "        try:\n",
    "            bool_present = english_dictionary.check(word)\n",
    "        except:\n",
    "            continue\n",
    "        \n",
    "    if bool_present:\n",
    "        suitable_decrypted_messages.append((key_val, decr_mess_str))\n",
    "        print(\"Possible encripted message is: \", decr_mess_str, \" ###### Key is: \", key_val)\n",
    "print(suitable_decrypted_messages)"
   ]
  },
  {
   "cell_type": "markdown",
   "metadata": {},
   "source": [
    "Attempting to revert the formula to check whether we obtain the same message we received:"
   ]
  },
  {
   "cell_type": "code",
   "execution_count": 80,
   "metadata": {},
   "outputs": [
    {
     "name": "stdout",
     "output_type": "stream",
     "text": [
      "Input message was:  K]amua!trgpy \n",
      "Just encripted message is:  K]amua!trgpy\n",
      "Are they equal? True\n"
     ]
    }
   ],
   "source": [
    "my_key    = suitable_decrypted_messages[0][0]\n",
    "decr_mess = suitable_decrypted_messages[0][1]\n",
    "\n",
    "ASCII_decr = np.array([ord(c) for c in decr_mess])\n",
    "decr_mess = (ASCII_decr + nonce + my_key)%255\n",
    "print(\"Input message was: \", message_encrypted, \"\\nJust encripted message is: \",  array_to_char(decr_mess))\n",
    "print(\"Are they equal?\", message_encrypted == array_to_char(decr_mess))"
   ]
  },
  {
   "cell_type": "markdown",
   "metadata": {},
   "source": [
    "The **used key** is 245 , the **original message text** is \"Padova rocks\""
   ]
  },
  {
   "cell_type": "markdown",
   "metadata": {},
   "source": [
    "# TOPIC: Object Storage Technology "
   ]
  },
  {
   "cell_type": "markdown",
   "metadata": {},
   "source": [
    "In an object storage system we are mapping objects by name to locations\n",
    "using a hash table. Imagine we have a system with ten hard disks (**10** locations). We\n",
    "enumerate the location of a file using an index of the hard disk [0..9].\n",
    "\n",
    "Our hash algorithm for placement produces hashes, which are distributed \n",
    "uniform over the value space for a flat input key distribution. \n",
    "We want now to simulate the behaviour of our hash algorithm without \n",
    "the need to actually compute any hash value. \n",
    "Instead of using real filenames, which we would hash and map using a \n",
    "hash table to a location (as we did in the exercise), we are ‘computing’ a \n",
    "location for ‘any’ file by generating a random number for the location\n",
    "in the range [0..9] to assign a file location. To place a file in the storage \n",
    "system we use this random location where the file will be stored and \n",
    "consumes space.\n",
    "\n",
    "Assume **each disk** has **1TB** of space, we have **10TB** in total.\n",
    "Place as **many files** of **10GB size** as possible to hard disks choosing\n",
    "random locations until one hard disk is full.\n",
    "Hint: a hard disk is full once you have stored hundred 10GB files."
   ]
  },
  {
   "cell_type": "markdown",
   "metadata": {},
   "source": [
    "Write a program in Python which simulates the placement of 10GB files to random locations and account the used space on each hard disk. Once the first hard disk is full, you stop to place files"
   ]
  },
  {
   "cell_type": "code",
   "execution_count": 69,
   "metadata": {},
   "outputs": [],
   "source": [
    "n_disks = 10\n",
    "space_disk = 1000\n",
    "filesize = 10\n",
    "\n",
    "storage_disks = np.zeros((n_disks,), dtype = int)\n",
    "tot_space_available = space_disk*n_disks"
   ]
  },
  {
   "cell_type": "code",
   "execution_count": 70,
   "metadata": {},
   "outputs": [],
   "source": [
    "def simulation_files_placement(storage, space_disk, filesize):\n",
    "    index = 0\n",
    "    while ((storage < space_disk).all()):\n",
    "        choice = np.random.randint(0, len(storage))\n",
    "        storage[choice] += filesize\n",
    "        index += 1\n",
    "    return storage, index\n",
    "\n",
    "def get_free_space(storage, space_disk):\n",
    "    tot_space_available = space_disk*len(storage)\n",
    "    free_space_perc = 100*(tot_space_available - sum(storage))/tot_space_available\n",
    "    free_space = 100*(space_disk-storage)/tot_space_available\n",
    "    return free_space, free_space_perc"
   ]
  },
  {
   "cell_type": "markdown",
   "metadata": {},
   "source": [
    "+ How many files did you manage to place?\n",
    "\n",
    "+ What is the percentage of total used space on all hard disks in the moment the first disk is full? "
   ]
  },
  {
   "cell_type": "code",
   "execution_count": 71,
   "metadata": {},
   "outputs": [
    {
     "name": "stdout",
     "output_type": "stream",
     "text": [
      "Disks occupations [GB]:  [ 730  800  790  940  860  690  730  820  790 1000]\n",
      "Total size occupied [GB]:  8150\n",
      "Total used space 81.5 %\n",
      "Number of files placed:  815\n"
     ]
    }
   ],
   "source": [
    "storage, n_files = simulation_files_placement(storage_disks, space_disk, filesize)\n",
    "\n",
    "print(\"Disks occupations [GB]: \", storage)\n",
    "print(\"Total size occupied [GB]: \", sum(storage))\n",
    "print(\"Total used space\", 100*(1 - (tot_space_available - sum(storage))/tot_space_available), \"%\" )\n",
    "print(\"Number of files placed: \", n_files)"
   ]
  },
  {
   "cell_type": "code",
   "execution_count": 72,
   "metadata": {},
   "outputs": [
    {
     "data": {
      "image/png": "[encoded data removed]",
      "text/plain": [
       "<Figure size 432x288 with 1 Axes>"
      ]
     },
     "metadata": {
      "needs_background": "light"
     },
     "output_type": "display_data"
    }
   ],
   "source": [
    "plt.bar(np.arange(n_disks) , storage, color = 'red')\n",
    "plt.title('Disk occupation [GB] - Files 10GB')\n",
    "plt.xlabel('# disk')\n",
    "plt.ylabel('[GB]')\n",
    "plt.ylim([0,1100])\n",
    "plt.axhline(1000, color = 'black', linestyle = '--')\n",
    "plt.show()"
   ]
  },
  {
   "cell_type": "markdown",
   "metadata": {},
   "source": [
    "+ Repeat the same task placing 1GB files until the first hard disk is full.\n"
   ]
  },
  {
   "cell_type": "code",
   "execution_count": 73,
   "metadata": {},
   "outputs": [],
   "source": [
    "n_disks = 10\n",
    "space_disk = 1000\n",
    "filesize = 1\n",
    "\n",
    "storage_disks = np.zeros((n_disks,), dtype = int)\n",
    "tot_space_available = space_disk*n_disks"
   ]
  },
  {
   "cell_type": "code",
   "execution_count": 74,
   "metadata": {},
   "outputs": [],
   "source": [
    "storage, n_files = simulation_files_placement(storage_disks, space_disk, filesize)"
   ]
  },
  {
   "cell_type": "code",
   "execution_count": 75,
   "metadata": {},
   "outputs": [
    {
     "name": "stdout",
     "output_type": "stream",
     "text": [
      "Disks occupations [GB]:  [ 931 1000  945  957  966  948  960  906  983  935]\n",
      "Total size occupied [GB]:  9531\n",
      "Total used space 95.31 %\n",
      "Number of files placed:  9531\n"
     ]
    }
   ],
   "source": [
    "print(\"Disks occupations [GB]: \", storage)\n",
    "print(\"Total size occupied [GB]: \", sum(storage))\n",
    "print(\"Total used space\", 100*(1 - (tot_space_available - sum(storage))/tot_space_available), \"%\" )\n",
    "print(\"Number of files placed: \", n_files)"
   ]
  },
  {
   "cell_type": "code",
   "execution_count": 171,
   "metadata": {},
   "outputs": [
    {
     "data": {
      "image/png": "[encoded data removed]",
      "text/plain": [
       "<Figure size 432x288 with 1 Axes>"
      ]
     },
     "metadata": {
      "needs_background": "light"
     },
     "output_type": "display_data"
    }
   ],
   "source": [
    "plt.bar(np.arange(n_disks) , storage, color = 'red')\n",
    "plt.title('Disk occupation [GB] - Files 1GB')\n",
    "plt.xlabel('# disk')\n",
    "plt.ylabel('[GB]')\n",
    "plt.ylim([0,1100])\n",
    "plt.axhline(1000, color = 'black', linestyle = '--')\n",
    "plt.show()"
   ]
  },
  {
   "cell_type": "markdown",
   "metadata": {},
   "source": [
    "+ How many files did you manage to place?\n",
    "\n",
    "Around 9k for 1GB files, while before one order of magnitude less, namely about 800.\n",
    "\n",
    "+ What is the percentage of total used space on all hard disks in the moment the first disk is full? \n",
    "\n",
    "The percentage of total used space is 95% for files of 1GB, while 82% for larger files of 10GB. The larger the files, the less space is used."
   ]
  },
  {
   "cell_type": "markdown",
   "metadata": {},
   "source": [
    "+ Based on this observation: why do you think object storage typically stores fixed size blocks of 4M and not files of GBs size as a whole? (so called **block storage approach**). Run the same program for 4M block sizes and demonstrate the benefits"
   ]
  },
  {
   "cell_type": "markdown",
   "metadata": {},
   "source": [
    "As one can easily see from the previous two histograms, when chunks are larger there will be much more free space left in the disks. Indeed for very large files (10GB) the free space is around 15%, while for smaller files (1GB) it is around 3-4%. If this pattern holds, then using block storage we expect both to put many more files and to fill more efficiently all the disks, thus avoiding large free spaces.\n",
    "\n",
    "Let us show it:"
   ]
  },
  {
   "cell_type": "code",
   "execution_count": 77,
   "metadata": {},
   "outputs": [
    {
     "name": "stdout",
     "output_type": "stream",
     "text": [
      "Disks occupations [GB]:  [1000.     997.06   993.296  995.036  997.036  995.08   997.116  998.628\n",
      "  999.488  996.808]\n",
      "Total size occupied [GB]:  9969.54800003304\n",
      "Total used space -199.68548000033041 %\n",
      "Number of files placed:  2492387\n"
     ]
    },
    {
     "data": {
      "image/png": "[encoded data removed]",
      "text/plain": [
       "<Figure size 432x288 with 1 Axes>"
      ]
     },
     "metadata": {
      "needs_background": "light"
     },
     "output_type": "display_data"
    }
   ],
   "source": [
    "n_disks = 10\n",
    "space_disk = 1000\n",
    "filesize = 0.004\n",
    "\n",
    "storage_disks = np.zeros((n_disks,))\n",
    "tot_space_available = space_disk*n_disks\n",
    "\n",
    "storage, n_files = simulation_files_placement(storage_disks, space_disk, filesize)\n",
    "\n",
    "print(\"Disks occupations [GB]: \", storage)\n",
    "print(\"Total size occupied [GB]: \", sum(storage))\n",
    "print(\"Total used space\", 100*((1 - tot_space_available - sum(storage))/tot_space_available), \"%\" )\n",
    "print(\"Number of files placed: \", n_files)\n",
    "\n",
    "plt.bar(np.arange(n_disks) , storage, color = 'red')\n",
    "plt.title('Disk occupation [GB] - Files 4MB')\n",
    "plt.xlabel('# disk')\n",
    "plt.ylabel('[GB]')\n",
    "plt.ylim([0,1100])\n",
    "plt.axhline(1000, color = 'black', linestyle = '--')\n",
    "plt.show()"
   ]
  },
  {
   "cell_type": "markdown",
   "metadata": {},
   "source": [
    "Indeed we were able to put many more files (order of millions), and the total free space is much below $1\\%$ ($\\sim 0.2\\%$). Some space however still cannot be used, but it is way less than the other case."
   ]
  },
  {
   "cell_type": "markdown",
   "metadata": {},
   "source": [
    "+ Compute the average used space on all hard disks and the standard deviation for the average used space for 10 GB and 1GB and 4M files. How is the standard deviation correlated to the block size and why?"
   ]
  },
  {
   "cell_type": "code",
   "execution_count": 234,
   "metadata": {},
   "outputs": [],
   "source": [
    "file_sizes = np.geomspace(start = 0.004, stop = 100, num = 50)\n",
    "statistics = np.zeros((len(file_sizes), 6))\n",
    "\n",
    "for i, size in enumerate(file_sizes):\n",
    "    n_possible_files = space_disk/size\n",
    "    storage_disks = np.zeros((n_disks,))\n",
    "    tot_space_available = space_disk*n_disks\n",
    "\n",
    "    storage, n_files = simulation_files_placement(storage_disks, space_disk, size)\n",
    "    free_space, free_space_perc = get_free_space(storage, space_disk)\n",
    "    \n",
    "    statistics[i,:] = np.array([size, n_possible_files, \n",
    "                                np.mean(free_space), np.var(free_space), \n",
    "                                np.mean(storage), np.var(storage)])\n"
   ]
  },
  {
   "cell_type": "code",
   "execution_count": 235,
   "metadata": {},
   "outputs": [
    {
     "data": {
      "image/png": "[encoded data removed]",
      "text/plain": [
       "<Figure size 576x432 with 1 Axes>"
      ]
     },
     "metadata": {
      "needs_background": "light"
     },
     "output_type": "display_data"
    }
   ],
   "source": [
    "plt.figure(figsize= (8,6))\n",
    "plt.errorbar(statistics[:,0], statistics[:,2], np.sqrt(statistics[:,3]), color = 'red')\n",
    "plt.xscale('log')\n",
    "plt.title('Average free space on a disk for different file sizes')\n",
    "plt.ylabel('%')\n",
    "plt.xlabel('File size [GB]')\n",
    "plt.show()"
   ]
  },
  {
   "cell_type": "code",
   "execution_count": 239,
   "metadata": {},
   "outputs": [
    {
     "name": "stdout",
     "output_type": "stream",
     "text": [
      "The standard deviation scales as -0.4928745518777647\n"
     ]
    },
    {
     "data": {
      "image/png": "[encoded data removed]",
      "text/plain": [
       "<Figure size 576x432 with 1 Axes>"
      ]
     },
     "metadata": {
      "needs_background": "light"
     },
     "output_type": "display_data"
    }
   ],
   "source": [
    "x = np.log(statistics[:,1])\n",
    "y = np.log(np.sqrt(statistics[:,3]))\n",
    "opt = np.polyfit(x, y, 1)\n",
    "print(\"The standard deviation scales as\", opt[0])\n",
    "\n",
    "plt.figure(figsize= (8,6))\n",
    "plt.plot(statistics[:,1], np.sqrt(statistics[:,3]), color = 'red')\n",
    "plt.plot(statistics[:,1], np.exp(np.log(statistics[:,1])*opt[0] + opt[1]), label = 'fit', linestyle = '--')\n",
    "plt.xscale('log')\n",
    "plt.yscale('log')\n",
    "plt.title('Standard Deviation of average free space wrt number of files per disk')\n",
    "plt.ylabel('Standard Deviation')\n",
    "plt.xlabel('Max number of files per disk')\n",
    "plt.legend()\n",
    "plt.show()"
   ]
  },
  {
   "cell_type": "markdown",
   "metadata": {},
   "source": [
    "As one can see, the standard deviation of average free space scales as $1/\\sqrt{N}$, where $N$ is the number of files that a single disk can contain.\n",
    "\n",
    "Using the average space **used** obviously leads to similar results. Indeed:"
   ]
  },
  {
   "cell_type": "code",
   "execution_count": 259,
   "metadata": {},
   "outputs": [
    {
     "data": {
      "image/png": "[encoded data removed]",
      "text/plain": [
       "<Figure size 576x432 with 1 Axes>"
      ]
     },
     "metadata": {
      "needs_background": "light"
     },
     "output_type": "display_data"
    }
   ],
   "source": [
    "plt.figure(figsize= (8,6))\n",
    "plt.errorbar(statistics[:,0], statistics[:,4]/n_disks, np.sqrt(statistics[:,5])/n_disks, color = 'red')\n",
    "plt.xscale('log')\n",
    "plt.title('Average space used in disks for different file sizes')\n",
    "plt.ylabel('%')\n",
    "plt.xlabel('File size [GB]')\n",
    "plt.show()"
   ]
  },
  {
   "cell_type": "code",
   "execution_count": 242,
   "metadata": {},
   "outputs": [
    {
     "name": "stdout",
     "output_type": "stream",
     "text": [
      "The standard deviation scales as -0.4928745518777646\n"
     ]
    },
    {
     "data": {
      "image/png": "[encoded data removed]",
      "text/plain": [
       "<Figure size 576x432 with 1 Axes>"
      ]
     },
     "metadata": {
      "needs_background": "light"
     },
     "output_type": "display_data"
    }
   ],
   "source": [
    "x = np.log(statistics[:,1])\n",
    "y = np.log(np.sqrt(statistics[:,5]))\n",
    "opt = np.polyfit(x, y, 1)\n",
    "print(\"The standard deviation scales as\", opt[0])\n",
    "\n",
    "plt.figure(figsize= (8,6))\n",
    "plt.plot(statistics[:,1], np.sqrt(statistics[:,5]), color = 'red')\n",
    "plt.plot(statistics[:,1], np.exp(np.log(statistics[:,1])*opt[0] + opt[1]), label = 'fit', linestyle = '--')\n",
    "plt.xscale('log')\n",
    "plt.yscale('log')\n",
    "plt.title('Standard Deviation of average disk occupancy wrt number of files per disk')\n",
    "plt.ylabel('Standard Deviation')\n",
    "plt.xlabel('Max number of files per disk')\n",
    "plt.legend()\n",
    "plt.show()"
   ]
  },
  {
   "cell_type": "markdown",
   "metadata": {},
   "source": [
    "We see as the files dimension increases, conversely the number of files that can be put on a single disk decreases, as we expect when we keep the disk size fixed. Moreover, we notice as the standard deviation of the average disk occupancy decreases when the file size decreases: in other words it will not be likely that some disks will be \"really full\", while others being \"really empty\". Thus, to have all disks \"more equally\" filled, a block storage approach comes really handy. "
   ]
  },
  {
   "cell_type": "markdown",
   "metadata": {},
   "source": [
    "+ If we now repeat such an experiment for many more (thousands) of hard disks, which kind of distribution do you get when you do a histogram of the used space of all hard disks.\n",
    "\n",
    "The average used/free space of all hard disk will be distributed similarly as before: with larger variance that depends on the size of the file. The larger the file size, the larger the variance. Obviously, the total number of files we store will be much more, given we considered a larger number of disks. \n",
    "\n",
    "Let us show it:"
   ]
  },
  {
   "cell_type": "markdown",
   "metadata": {},
   "source": [
    "For files of size **0.1GB**:"
   ]
  },
  {
   "cell_type": "code",
   "execution_count": 261,
   "metadata": {},
   "outputs": [
    {
     "name": "stdout",
     "output_type": "stream",
     "text": [
      "Total size occupied [GB]:  967036.1000001535\n",
      "Total free space 3.296389999984647 %\n",
      "Number of files placed:  9670361\n"
     ]
    },
    {
     "data": {
      "image/png": "[encoded data removed]",
      "text/plain": [
       "<Figure size 864x432 with 1 Axes>"
      ]
     },
     "metadata": {
      "needs_background": "light"
     },
     "output_type": "display_data"
    }
   ],
   "source": [
    "n_disks = 1000\n",
    "storage_disks = np.zeros((n_disks,))\n",
    "tot_space_available = space_disk*n_disks\n",
    "\n",
    "storage, n_files = simulation_files_placement(storage_disks, space_disk, 0.1)\n",
    "\n",
    "#print(\"Disks occupations [GB]: \", storage)\n",
    "print(\"Total size occupied [GB]: \", sum(storage))\n",
    "print(\"Total free space\", 100*(tot_space_available - sum(storage))/tot_space_available, \"%\" )\n",
    "print(\"Number of files placed: \", n_files)\n",
    "\n",
    "plt.figure(figsize= (12,6))\n",
    "plt.bar(np.arange(n_disks) , storage, color = 'red')\n",
    "plt.title('Disk occupation [GB] - Files 0.1GB')\n",
    "plt.xlabel('# disk')\n",
    "plt.ylabel('[GB]')\n",
    "plt.ylim([0,1100])\n",
    "plt.axhline(1000, color = 'black', linestyle = '--')\n",
    "plt.show()"
   ]
  },
  {
   "cell_type": "markdown",
   "metadata": {},
   "source": [
    "For files of size **1GB**:"
   ]
  },
  {
   "cell_type": "code",
   "execution_count": 262,
   "metadata": {},
   "outputs": [
    {
     "name": "stdout",
     "output_type": "stream",
     "text": [
      "Total size occupied [GB]:  917398.0\n",
      "Total free space 8.2602 %\n",
      "Number of files placed:  917398\n"
     ]
    },
    {
     "data": {
      "image/png": "[encoded data removed]",
      "text/plain": [
       "<Figure size 864x432 with 1 Axes>"
      ]
     },
     "metadata": {
      "needs_background": "light"
     },
     "output_type": "display_data"
    }
   ],
   "source": [
    "n_disks = 1000\n",
    "storage_disks = np.zeros((n_disks,))\n",
    "tot_space_available = space_disk*n_disks\n",
    "\n",
    "storage, n_files = simulation_files_placement(storage_disks, space_disk, 1)\n",
    "\n",
    "#print(\"Disks occupations [GB]: \", storage)\n",
    "print(\"Total size occupied [GB]: \", sum(storage))\n",
    "print(\"Total free space\", 100*(tot_space_available - sum(storage))/tot_space_available, \"%\" )\n",
    "print(\"Number of files placed: \", n_files)\n",
    "\n",
    "plt.figure(figsize= (12,6))\n",
    "plt.bar(np.arange(n_disks) , storage, color = 'red')\n",
    "plt.title('Disk occupation [GB] - Files 1GB')\n",
    "plt.xlabel('# disk')\n",
    "plt.ylabel('[GB]')\n",
    "plt.ylim([0,1100])\n",
    "plt.axhline(1000, color = 'black', linestyle = '--')\n",
    "plt.show()"
   ]
  },
  {
   "cell_type": "markdown",
   "metadata": {},
   "source": [
    "For files of size **10GB**:"
   ]
  },
  {
   "cell_type": "code",
   "execution_count": 263,
   "metadata": {},
   "outputs": [
    {
     "name": "stdout",
     "output_type": "stream",
     "text": [
      "Total size occupied [GB]:  674120.0\n",
      "Total free space 32.588 %\n",
      "Number of files placed:  67412\n"
     ]
    },
    {
     "data": {
      "image/png": "[encoded data removed]",
      "text/plain": [
       "<Figure size 864x432 with 1 Axes>"
      ]
     },
     "metadata": {
      "needs_background": "light"
     },
     "output_type": "display_data"
    }
   ],
   "source": [
    "n_disks = 1000\n",
    "storage_disks = np.zeros((n_disks,))\n",
    "tot_space_available = space_disk*n_disks\n",
    "\n",
    "storage, n_files = simulation_files_placement(storage_disks, space_disk, 10)\n",
    "\n",
    "#print(\"Disks occupations [GB]: \", storage)\n",
    "print(\"Total size occupied [GB]: \", sum(storage))\n",
    "print(\"Total free space\", 100*(tot_space_available - sum(storage))/tot_space_available, \"%\" )\n",
    "print(\"Number of files placed: \", n_files)\n",
    "\n",
    "plt.figure(figsize= (12,6))\n",
    "plt.bar(np.arange(n_disks) , storage, color = 'red')\n",
    "plt.title('Disk occupation [GB] - Files 10GB')\n",
    "plt.xlabel('# disk')\n",
    "plt.ylabel('[GB]')\n",
    "plt.ylim([0,1100])\n",
    "plt.axhline(1000, color = 'black', linestyle = '--')\n",
    "plt.show()"
   ]
  },
  {
   "cell_type": "markdown",
   "metadata": {},
   "source": [
    "Concluding: the block storage approach allows to fill more evenly the disks thus minimizing the disk loss (which is nevertheless always present!), so it is preferrable to have many small chunks rather than uploading entire files which are large (order of GB). "
   ]
  },
  {
   "cell_type": "markdown",
   "metadata": {},
   "source": [
    "# TOPIC: REST APIs and Block Chain Technology"
   ]
  },
  {
   "cell_type": "markdown",
   "metadata": {},
   "source": [
    "+ Under https://pansophy.app:8443 you find a (hopefully running) Crypto Coin Server exporting a simple Block Chain. You can open this URL in any web browser to see the current Block Chain status and the account information. At the time of writing the initial birth account of the Block Chain contained 1M coins ( “genesis” : 1000000 ). The task is to implement a client and use a simple REST API to submit transactions to the Block Chain. Your goal is to book coins from other people’s accounts to your own account.\n",
    "\n",
    "\n",
    "+ The server implements a **Proof Of Time** algorithm. To add a transaction tomove coins to your account, you have to submit a merit request and you have to let time pass before you can send a claim request to execute your transaction on the Block Chain. If you claim your transaction too fast after a merit request, your request is discarded. The server enforces a Proof Of Time of a minimum of 10 seconds! "
   ]
  },
  {
   "cell_type": "code",
   "execution_count": 272,
   "metadata": {},
   "outputs": [
    {
     "name": "stderr",
     "output_type": "stream",
     "text": [
      "/home/andrea/.local/lib/python3.8/site-packages/urllib3/connectionpool.py:1013: InsecureRequestWarning: Unverified HTTPS request is being made to host 'pansophy.app'. Adding certificate verification is strongly advised. See: https://urllib3.readthedocs.io/en/latest/advanced-usage.html#ssl-warnings\n",
      "  warnings.warn(\n"
     ]
    },
    {
     "data": {
      "text/plain": [
       "{'accounts': {'Andreas J. Peters': 1000, 'BellaZio': 25, 'genesis': 998975},\n",
       " 'chain': [{'coins': 1000000,\n",
       "   'debit': 'genesis',\n",
       "   'index': 0,\n",
       "   'my_hash': '58f3f485104a26b61060837a2087bbb5a14ba709e380dbaed452ed9e9cb39427',\n",
       "   'prev_hash': '0',\n",
       "   'team': 'genesis',\n",
       "   'timestamp': 1622479658.282847},\n",
       "  {'coins': 1000,\n",
       "   'debit': 'genesis',\n",
       "   'index': 1,\n",
       "   'my_hash': 'baa43458ac89290b22c8e2e3fa0689265d47e45acb8e2980227f74eab01e23ac',\n",
       "   'prev_hash': '58f3f485104a26b61060837a2087bbb5a14ba709e380dbaed452ed9e9cb39427',\n",
       "   'team': 'Andreas J. Peters',\n",
       "   'timestamp': 1622533027.813872},\n",
       "  {'coins': 25,\n",
       "   'debit': 'genesis',\n",
       "   'index': 2,\n",
       "   'my_hash': '02f5ec3fd3e2fa557efbe2f3c809d56c7786098d13c4f1872ee90c1530c396db',\n",
       "   'prev_hash': 'baa43458ac89290b22c8e2e3fa0689265d47e45acb8e2980227f74eab01e23ac',\n",
       "   'team': 'BellaZio',\n",
       "   'timestamp': 1622575269.245607}],\n",
       " 'current_hash': '02f5ec3fd3e2fa557efbe2f3c809d56c7786098d13c4f1872ee90c1530c396db',\n",
       " 'requests': {}}"
      ]
     },
     "execution_count": 272,
     "metadata": {},
     "output_type": "execute_result"
    }
   ],
   "source": [
    "url = 'https://pansophy.app:8443'\n",
    "response = requests.get(url, verify=False).content\n",
    "jsonResponse = json.loads(response.decode('utf-8'))\n",
    "jsonResponse"
   ]
  },
  {
   "cell_type": "markdown",
   "metadata": {},
   "source": [
    "Let us try to make a script that steals money from accounts that have money above a certain threshold, except our own. To do this, we implemented the following program:"
   ]
  },
  {
   "cell_type": "code",
   "execution_count": 301,
   "metadata": {},
   "outputs": [],
   "source": [
    "my_account = 'BellaZio'\n",
    "\n",
    "#get a list of accounts that have an amount of money above a certain threshold\n",
    "def get_list_account_above_threshold(response, threshold = 1000, my_account = 'BellaZio'):\n",
    "    parsed_list  = []\n",
    "    account_list = list(jsonResponse['accounts'].keys())\n",
    "    account_data = jsonResponse['accounts']\n",
    "    \n",
    "    for account in account_list:\n",
    "        if account == my_account:\n",
    "            continue\n",
    "        else:\n",
    "            if account_data.get(account) > threshold:\n",
    "                parsed_list.append(account)\n",
    "            else:\n",
    "                continue\n",
    "            \n",
    "    return parsed_list\n",
    "\n",
    "#create a merit body for requesting a transaction\n",
    "def create_merit_json_input_data(account, money = 1000, my_account = 'BellaZio'):\n",
    "    return json.dumps({\n",
    "     \"operation\": \"merit\",\n",
    "     \"team\": my_account,\n",
    "     \"coin\": money,\n",
    "     \"stealfrom\": account\n",
    "    })\n",
    "\n",
    "#create a body to claim the transaction\n",
    "def create_claim_json(my_account = 'BellaZio'):\n",
    "    return json.dumps({\n",
    "     \"operation\": \"claim\",\n",
    "     \"team\": my_account,\n",
    "    })"
   ]
  },
  {
   "cell_type": "markdown",
   "metadata": {},
   "source": [
    "Make a couple of transactions, just for fun:"
   ]
  },
  {
   "cell_type": "code",
   "execution_count": 331,
   "metadata": {},
   "outputs": [
    {
     "name": "stdout",
     "output_type": "stream",
     "text": [
      "Number of transactions made: 0\n"
     ]
    },
    {
     "name": "stderr",
     "output_type": "stream",
     "text": [
      "/home/andrea/.local/lib/python3.8/site-packages/urllib3/connectionpool.py:1013: InsecureRequestWarning: Unverified HTTPS request is being made to host 'pansophy.app'. Adding certificate verification is strongly advised. See: https://urllib3.readthedocs.io/en/latest/advanced-usage.html#ssl-warnings\n",
      "  warnings.warn(\n"
     ]
    },
    {
     "name": "stdout",
     "output_type": "stream",
     "text": [
      "Number of transactions made: 1\n"
     ]
    },
    {
     "name": "stderr",
     "output_type": "stream",
     "text": [
      "/home/andrea/.local/lib/python3.8/site-packages/urllib3/connectionpool.py:1013: InsecureRequestWarning: Unverified HTTPS request is being made to host 'pansophy.app'. Adding certificate verification is strongly advised. See: https://urllib3.readthedocs.io/en/latest/advanced-usage.html#ssl-warnings\n",
      "  warnings.warn(\n"
     ]
    },
    {
     "name": "stdout",
     "output_type": "stream",
     "text": [
      "Number of transactions made: 2\n"
     ]
    },
    {
     "name": "stderr",
     "output_type": "stream",
     "text": [
      "/home/andrea/.local/lib/python3.8/site-packages/urllib3/connectionpool.py:1013: InsecureRequestWarning: Unverified HTTPS request is being made to host 'pansophy.app'. Adding certificate verification is strongly advised. See: https://urllib3.readthedocs.io/en/latest/advanced-usage.html#ssl-warnings\n",
      "  warnings.warn(\n"
     ]
    },
    {
     "name": "stdout",
     "output_type": "stream",
     "text": [
      "Number of transactions made: 3\n"
     ]
    },
    {
     "name": "stderr",
     "output_type": "stream",
     "text": [
      "/home/andrea/.local/lib/python3.8/site-packages/urllib3/connectionpool.py:1013: InsecureRequestWarning: Unverified HTTPS request is being made to host 'pansophy.app'. Adding certificate verification is strongly advised. See: https://urllib3.readthedocs.io/en/latest/advanced-usage.html#ssl-warnings\n",
      "  warnings.warn(\n"
     ]
    },
    {
     "name": "stdout",
     "output_type": "stream",
     "text": [
      "Number of transactions made: 4\n"
     ]
    },
    {
     "name": "stderr",
     "output_type": "stream",
     "text": [
      "/home/andrea/.local/lib/python3.8/site-packages/urllib3/connectionpool.py:1013: InsecureRequestWarning: Unverified HTTPS request is being made to host 'pansophy.app'. Adding certificate verification is strongly advised. See: https://urllib3.readthedocs.io/en/latest/advanced-usage.html#ssl-warnings\n",
      "  warnings.warn(\n"
     ]
    },
    {
     "name": "stdout",
     "output_type": "stream",
     "text": [
      "Number of transactions made: 5\n"
     ]
    },
    {
     "name": "stderr",
     "output_type": "stream",
     "text": [
      "/home/andrea/.local/lib/python3.8/site-packages/urllib3/connectionpool.py:1013: InsecureRequestWarning: Unverified HTTPS request is being made to host 'pansophy.app'. Adding certificate verification is strongly advised. See: https://urllib3.readthedocs.io/en/latest/advanced-usage.html#ssl-warnings\n",
      "  warnings.warn(\n"
     ]
    },
    {
     "name": "stdout",
     "output_type": "stream",
     "text": [
      "Number of transactions made: 6\n"
     ]
    },
    {
     "name": "stderr",
     "output_type": "stream",
     "text": [
      "/home/andrea/.local/lib/python3.8/site-packages/urllib3/connectionpool.py:1013: InsecureRequestWarning: Unverified HTTPS request is being made to host 'pansophy.app'. Adding certificate verification is strongly advised. See: https://urllib3.readthedocs.io/en/latest/advanced-usage.html#ssl-warnings\n",
      "  warnings.warn(\n"
     ]
    },
    {
     "name": "stdout",
     "output_type": "stream",
     "text": [
      "Number of transactions made: 7\n"
     ]
    },
    {
     "name": "stderr",
     "output_type": "stream",
     "text": [
      "/home/andrea/.local/lib/python3.8/site-packages/urllib3/connectionpool.py:1013: InsecureRequestWarning: Unverified HTTPS request is being made to host 'pansophy.app'. Adding certificate verification is strongly advised. See: https://urllib3.readthedocs.io/en/latest/advanced-usage.html#ssl-warnings\n",
      "  warnings.warn(\n"
     ]
    },
    {
     "name": "stdout",
     "output_type": "stream",
     "text": [
      "Number of transactions made: 8\n"
     ]
    },
    {
     "name": "stderr",
     "output_type": "stream",
     "text": [
      "/home/andrea/.local/lib/python3.8/site-packages/urllib3/connectionpool.py:1013: InsecureRequestWarning: Unverified HTTPS request is being made to host 'pansophy.app'. Adding certificate verification is strongly advised. See: https://urllib3.readthedocs.io/en/latest/advanced-usage.html#ssl-warnings\n",
      "  warnings.warn(\n"
     ]
    },
    {
     "name": "stdout",
     "output_type": "stream",
     "text": [
      "Number of transactions made: 9\n"
     ]
    },
    {
     "name": "stderr",
     "output_type": "stream",
     "text": [
      "/home/andrea/.local/lib/python3.8/site-packages/urllib3/connectionpool.py:1013: InsecureRequestWarning: Unverified HTTPS request is being made to host 'pansophy.app'. Adding certificate verification is strongly advised. See: https://urllib3.readthedocs.io/en/latest/advanced-usage.html#ssl-warnings\n",
      "  warnings.warn(\n"
     ]
    }
   ],
   "source": [
    "import json\n",
    "import requests\n",
    "import random\n",
    "import time\n",
    "import ssl\n",
    "import urllib.request\n",
    "\n",
    "my_account = 'BellaZio'\n",
    "\n",
    "#get a list of accounts that have an amount of money above a certain threshold\n",
    "def get_list_account_above_threshold(response, threshold = 1000, my_account = 'BellaZio'):\n",
    "    parsed_list  = []\n",
    "    \n",
    "    jsonResponse = json.loads(response.decode('utf-8'))\n",
    "    account_list = list(jsonResponse['accounts'].keys())\n",
    "    account_data = jsonResponse['accounts']\n",
    "    \n",
    "    for account in account_list:\n",
    "        if account == my_account:\n",
    "            continue\n",
    "        else:\n",
    "            if account_data.get(account) > threshold:\n",
    "                parsed_list.append(account)\n",
    "            else:\n",
    "                continue\n",
    "            \n",
    "    return parsed_list\n",
    "\n",
    "#create a merit body for requesting a transaction\n",
    "def create_merit_json_input_data(account, money = 1000, my_account = 'BellaZio'):\n",
    "    return json.dumps({\n",
    "     \"operation\": \"merit\",\n",
    "     \"team\": my_account,\n",
    "     \"coin\": money,\n",
    "     \"stealfrom\": account\n",
    "    })\n",
    "\n",
    "#create a body to claim the transaction\n",
    "def create_claim_json(my_account = 'BellaZio'):\n",
    "    return json.dumps({\n",
    "     \"operation\": \"claim\",\n",
    "     \"team\": my_account,\n",
    "    })\n",
    "\n",
    "my_account = 'BellaZio'\n",
    "\n",
    "for i in range(10):\n",
    "    print(\"Number of transactions made:\", i)\n",
    "    #make a get request to see the status of the chain\n",
    "    response = requests.get(url, verify=False).content\n",
    "    \n",
    "    #get accounts whose amount of money is above a certain threshold\n",
    "    list_accounts_to_steal_from = get_list_account_above_threshold(response, threshold = 1000)\n",
    "    \n",
    "    #draw one to take money from and compose the body\n",
    "    target = random.choice(list_accounts_to_steal_from)\n",
    "    merit_body = create_merit_json_input_data(target, 1000)\n",
    "    \n",
    "    #make the merit request and wait 10 seconds as the proof of work\n",
    "    # Post Method is invoked if data != None\n",
    "    req = urllib.request.Request(url, data = bytes(merit_body.encode(\"utf-8\")), method = \"POST\")\n",
    "    # Add the appropriate header.\n",
    "    req.add_header(\"Content-type\", \"application/json; charset=UTF-8\")\n",
    "    with urllib.request.urlopen(req, context=ssl._create_unverified_context()) as resp:\n",
    "        response_data = json.loads(resp.read().decode(\"utf-8\"))\n",
    "        if response_data.get('msg') != 'accepted':\n",
    "            print(\"Request failed\", response_data)\n",
    "            break\n",
    "    time.sleep(10)\n",
    "\n",
    "    \n",
    "    #make the claim request\n",
    "    claim_body = create_claim_json()\n",
    "    req = urllib.request.Request(url, data = bytes(claim_body.encode(\"utf-8\")), method = \"POST\")\n",
    "    # Add the appropriate header.\n",
    "    req.add_header(\"Content-type\", \"application/json; charset=UTF-8\")\n",
    "    with urllib.request.urlopen(req, context=ssl._create_unverified_context()) as resp:\n",
    "        response_data = json.loads(resp.read().decode(\"utf-8\"))\n",
    "        if response_data.get('msg') != 'request claimed':\n",
    "            print(\"Request failed\", response_data)\n",
    "            break"
   ]
  },
  {
   "cell_type": "code",
   "execution_count": 332,
   "metadata": {},
   "outputs": [
    {
     "name": "stderr",
     "output_type": "stream",
     "text": [
      "/home/andrea/.local/lib/python3.8/site-packages/urllib3/connectionpool.py:1013: InsecureRequestWarning: Unverified HTTPS request is being made to host 'pansophy.app'. Adding certificate verification is strongly advised. See: https://urllib3.readthedocs.io/en/latest/advanced-usage.html#ssl-warnings\n",
      "  warnings.warn(\n"
     ]
    },
    {
     "data": {
      "text/plain": [
       "{'accounts': {'Andreas J. Peters': 1000,\n",
       "  'BellaZio': 19025,\n",
       "  'bellaZio': 1000,\n",
       "  'genesis': 978975},\n",
       " 'chain': [{'coins': 1000000,\n",
       "   'debit': 'genesis',\n",
       "   'index': 0,\n",
       "   'my_hash': '58f3f485104a26b61060837a2087bbb5a14ba709e380dbaed452ed9e9cb39427',\n",
       "   'prev_hash': '0',\n",
       "   'team': 'genesis',\n",
       "   'timestamp': 1622479658.282847},\n",
       "  {'coins': 1000,\n",
       "   'debit': 'genesis',\n",
       "   'index': 1,\n",
       "   'my_hash': 'baa43458ac89290b22c8e2e3fa0689265d47e45acb8e2980227f74eab01e23ac',\n",
       "   'prev_hash': '58f3f485104a26b61060837a2087bbb5a14ba709e380dbaed452ed9e9cb39427',\n",
       "   'team': 'Andreas J. Peters',\n",
       "   'timestamp': 1622533027.813872},\n",
       "  {'coins': 25,\n",
       "   'debit': 'genesis',\n",
       "   'index': 2,\n",
       "   'my_hash': '02f5ec3fd3e2fa557efbe2f3c809d56c7786098d13c4f1872ee90c1530c396db',\n",
       "   'prev_hash': 'baa43458ac89290b22c8e2e3fa0689265d47e45acb8e2980227f74eab01e23ac',\n",
       "   'team': 'BellaZio',\n",
       "   'timestamp': 1622575269.245607},\n",
       "  {'coins': 1000,\n",
       "   'debit': 'genesis',\n",
       "   'index': 3,\n",
       "   'my_hash': '667aa39a20df64bb68397b54f302f904e4b189b05f8a9df9f074223f4325b7a1',\n",
       "   'prev_hash': '02f5ec3fd3e2fa557efbe2f3c809d56c7786098d13c4f1872ee90c1530c396db',\n",
       "   'team': 'bellaZio',\n",
       "   'timestamp': 1622823187.302296},\n",
       "  {'coins': 1000,\n",
       "   'debit': 'genesis',\n",
       "   'index': 4,\n",
       "   'my_hash': '7b7853c017c8338de9ce1bbe375fb707949587a61d92ceef5b8d3a48bff651a5',\n",
       "   'prev_hash': '667aa39a20df64bb68397b54f302f904e4b189b05f8a9df9f074223f4325b7a1',\n",
       "   'team': 'BellaZio',\n",
       "   'timestamp': 1622823497.919807},\n",
       "  {'coins': 1000,\n",
       "   'debit': 'genesis',\n",
       "   'index': 5,\n",
       "   'my_hash': '6e07e6e54e9a5686ac6b6ad06347c2605817bf0e0c6042a8e6327842159e296d',\n",
       "   'prev_hash': '7b7853c017c8338de9ce1bbe375fb707949587a61d92ceef5b8d3a48bff651a5',\n",
       "   'team': 'BellaZio',\n",
       "   'timestamp': 1622823508.330047},\n",
       "  {'coins': 1000,\n",
       "   'debit': 'genesis',\n",
       "   'index': 6,\n",
       "   'my_hash': '99e5258656779f5c4a3e03688e2b3dbbe2c0e04d9e929db1dcc997d0bffab4d3',\n",
       "   'prev_hash': '6e07e6e54e9a5686ac6b6ad06347c2605817bf0e0c6042a8e6327842159e296d',\n",
       "   'team': 'BellaZio',\n",
       "   'timestamp': 1622823518.748256},\n",
       "  {'coins': 1000,\n",
       "   'debit': 'genesis',\n",
       "   'index': 7,\n",
       "   'my_hash': '0cad840cdd6c41df2a53c5c2f4425dfa70cbac26e60ce2a95dc647035376581e',\n",
       "   'prev_hash': '99e5258656779f5c4a3e03688e2b3dbbe2c0e04d9e929db1dcc997d0bffab4d3',\n",
       "   'team': 'BellaZio',\n",
       "   'timestamp': 1622823529.166333},\n",
       "  {'coins': 1000,\n",
       "   'debit': 'genesis',\n",
       "   'index': 8,\n",
       "   'my_hash': 'a91858a3065afbc3fa24ecccb2b05ff9be2d1bf54f613005e415b6958bfaeaa6',\n",
       "   'prev_hash': '0cad840cdd6c41df2a53c5c2f4425dfa70cbac26e60ce2a95dc647035376581e',\n",
       "   'team': 'BellaZio',\n",
       "   'timestamp': 1622823539.539976},\n",
       "  {'coins': 1000,\n",
       "   'debit': 'genesis',\n",
       "   'index': 9,\n",
       "   'my_hash': '96859f000fcb80a87e29db385c171f410bad117c1d3c4eac47f52f140e43ed77',\n",
       "   'prev_hash': 'a91858a3065afbc3fa24ecccb2b05ff9be2d1bf54f613005e415b6958bfaeaa6',\n",
       "   'team': 'BellaZio',\n",
       "   'timestamp': 1622823549.959666},\n",
       "  {'coins': 1000,\n",
       "   'debit': 'genesis',\n",
       "   'index': 10,\n",
       "   'my_hash': 'ea5c394baf1978f5c4826427bca1bc7a1f8b8a19e43d9b60b557f507480a6b70',\n",
       "   'prev_hash': '96859f000fcb80a87e29db385c171f410bad117c1d3c4eac47f52f140e43ed77',\n",
       "   'team': 'BellaZio',\n",
       "   'timestamp': 1622823560.345985},\n",
       "  {'coins': 1000,\n",
       "   'debit': 'genesis',\n",
       "   'index': 11,\n",
       "   'my_hash': 'a0b7f0eb91d670e354e26932cc2ed03fead625b18bbe735cc3bd06fa36964779',\n",
       "   'prev_hash': 'ea5c394baf1978f5c4826427bca1bc7a1f8b8a19e43d9b60b557f507480a6b70',\n",
       "   'team': 'BellaZio',\n",
       "   'timestamp': 1622823570.711638},\n",
       "  {'coins': 1000,\n",
       "   'debit': 'genesis',\n",
       "   'index': 12,\n",
       "   'my_hash': '602fcf4673eb747ce71227b24f861c9c0d853cc4972d20e9e5bd7542eed6d35b',\n",
       "   'prev_hash': 'a0b7f0eb91d670e354e26932cc2ed03fead625b18bbe735cc3bd06fa36964779',\n",
       "   'team': 'BellaZio',\n",
       "   'timestamp': 1622823581.101885},\n",
       "  {'coins': 1000,\n",
       "   'debit': 'genesis',\n",
       "   'index': 13,\n",
       "   'my_hash': '91cdad70fcf588d26102bf470067f560579c27c61a3f8295a30b199f05f9689a',\n",
       "   'prev_hash': '602fcf4673eb747ce71227b24f861c9c0d853cc4972d20e9e5bd7542eed6d35b',\n",
       "   'team': 'BellaZio',\n",
       "   'timestamp': 1622823702.389209},\n",
       "  {'coins': 1000,\n",
       "   'debit': 'genesis',\n",
       "   'index': 14,\n",
       "   'my_hash': '75a5a7b2416a5e9a8fb4655c17c6ecf91905a36f4bae44c7cd46f914f45b1631',\n",
       "   'prev_hash': '91cdad70fcf588d26102bf470067f560579c27c61a3f8295a30b199f05f9689a',\n",
       "   'team': 'BellaZio',\n",
       "   'timestamp': 1622823712.755765},\n",
       "  {'coins': 1000,\n",
       "   'debit': 'genesis',\n",
       "   'index': 15,\n",
       "   'my_hash': '5256ef94a5bdf51bdd4707242419dcb634466204ced080ef76da9e11fc7340ea',\n",
       "   'prev_hash': '75a5a7b2416a5e9a8fb4655c17c6ecf91905a36f4bae44c7cd46f914f45b1631',\n",
       "   'team': 'BellaZio',\n",
       "   'timestamp': 1622823723.122563},\n",
       "  {'coins': 1000,\n",
       "   'debit': 'genesis',\n",
       "   'index': 16,\n",
       "   'my_hash': '06a287bdac7de7bbaed0e8b13ef2c4079426f04077ef7021b0a6633b7fd7a93d',\n",
       "   'prev_hash': '5256ef94a5bdf51bdd4707242419dcb634466204ced080ef76da9e11fc7340ea',\n",
       "   'team': 'BellaZio',\n",
       "   'timestamp': 1622823733.501428},\n",
       "  {'coins': 1000,\n",
       "   'debit': 'genesis',\n",
       "   'index': 17,\n",
       "   'my_hash': '3ab2d010001e032a2f475db5ded6c104276c1cb5c1b47d5c1c00813f8e460862',\n",
       "   'prev_hash': '06a287bdac7de7bbaed0e8b13ef2c4079426f04077ef7021b0a6633b7fd7a93d',\n",
       "   'team': 'BellaZio',\n",
       "   'timestamp': 1622823743.871623},\n",
       "  {'coins': 1000,\n",
       "   'debit': 'genesis',\n",
       "   'index': 18,\n",
       "   'my_hash': 'df94b34712013102770bd017363d71a04eef60a44e94bd0f54f853f1949953a9',\n",
       "   'prev_hash': '3ab2d010001e032a2f475db5ded6c104276c1cb5c1b47d5c1c00813f8e460862',\n",
       "   'team': 'BellaZio',\n",
       "   'timestamp': 1622823754.278787},\n",
       "  {'coins': 1000,\n",
       "   'debit': 'genesis',\n",
       "   'index': 19,\n",
       "   'my_hash': '8c0d72c249b9c59f931bf3fa8ded5cce90848679586e2fa3a21e0d00b5b4de91',\n",
       "   'prev_hash': 'df94b34712013102770bd017363d71a04eef60a44e94bd0f54f853f1949953a9',\n",
       "   'team': 'BellaZio',\n",
       "   'timestamp': 1622823764.7279},\n",
       "  {'coins': 1000,\n",
       "   'debit': 'genesis',\n",
       "   'index': 20,\n",
       "   'my_hash': '733977d096b31a965d848c3cb4d7240f92e2079e8dacb010d5e198cef7e62063',\n",
       "   'prev_hash': '8c0d72c249b9c59f931bf3fa8ded5cce90848679586e2fa3a21e0d00b5b4de91',\n",
       "   'team': 'BellaZio',\n",
       "   'timestamp': 1622823775.12402},\n",
       "  {'coins': 1000,\n",
       "   'debit': 'genesis',\n",
       "   'index': 21,\n",
       "   'my_hash': '37232c9c455ef1a9c13fee868471414c32d731bc91f6fa095dada850c9734f38',\n",
       "   'prev_hash': '733977d096b31a965d848c3cb4d7240f92e2079e8dacb010d5e198cef7e62063',\n",
       "   'team': 'BellaZio',\n",
       "   'timestamp': 1622823785.52981},\n",
       "  {'coins': 1000,\n",
       "   'debit': 'genesis',\n",
       "   'index': 22,\n",
       "   'my_hash': '3435d048f34139339912061ea0717faaddba85218c7cbd3c752ddfb55b72ace7',\n",
       "   'prev_hash': '37232c9c455ef1a9c13fee868471414c32d731bc91f6fa095dada850c9734f38',\n",
       "   'team': 'BellaZio',\n",
       "   'timestamp': 1622823795.918302}],\n",
       " 'current_hash': '3435d048f34139339912061ea0717faaddba85218c7cbd3c752ddfb55b72ace7',\n",
       " 'requests': {}}"
      ]
     },
     "execution_count": 332,
     "metadata": {},
     "output_type": "execute_result"
    }
   ],
   "source": [
    "response = requests.get(url, verify=False).content\n",
    "jsonResponse = json.loads(response.decode('utf-8'))\n",
    "jsonResponse"
   ]
  },
  {
   "cell_type": "markdown",
   "metadata": {},
   "source": [
    "+ What is the maximum number of transactions one given team can add to the Block Chain in one day?"
   ]
  },
  {
   "cell_type": "code",
   "execution_count": 310,
   "metadata": {},
   "outputs": [
    {
     "name": "stdout",
     "output_type": "stream",
     "text": [
      "The maximum number of transactions that a team can make, assuming no latency, is: 8640\n"
     ]
    }
   ],
   "source": [
    "n_sec_day = 60*60*24\n",
    "proof_of_time = 10\n",
    "\n",
    "max_transactions = n_sec_day/proof_of_time\n",
    "\n",
    "print(\"The maximum number of transactions that a team can make, assuming no latency, is:\", int(max_transactions))"
   ]
  },
  {
   "cell_type": "markdown",
   "metadata": {},
   "source": [
    "`def calculate_hash(self):\n",
    "    block_of_string = “{}{}{}{}{}”.format( self.index,\n",
    "                                       self.team,\n",
    "                                       self.prev_hash, \n",
    "                                       self.coins, \n",
    "                                       self.timestamp)\n",
    "    self.my_hash = hashlib.sha256(block_of_string.encode()).hexdigest()\n",
    "    return self.my_hash\n",
    "`\n",
    "\n",
    " + Explain what this function does and why is this ‘the key’ for Block Chain technology? \n",
    "\n",
    "This function takes as input a blockchain, and is called when a claim request is made. It therefore calculates a hash based on the index of the transaction one wants to validate, the team that requested it, the previous hash (this is the reason why it is a \"chain\", since it clearly depends on previous blocks), the amount of coins requested and finally the time when this request was made. A block essentially store all this information, which is described in the input parameters of `calculate_hash function`, and can be flattened to a concatenated string from which one computes the hash.\n",
    "\n",
    "+ If you have the knowledge of the hash function, how can you validate the contents of the Block Chain you received using a GET request to make sure, nobody has tampered with it? You don’t need to implement it! Explain the algorithm to validate a Block Chain! \n",
    "\n",
    "If even a single bit of input data is changed or does not correspond to actual data the hash abruptly changes, meaning that the contents of the blockchain have been changed by someone. If we know how the hash is computed and the very first hash, we can easily make a GET request and sequentially compute hashes and check whether they coincide. If they do, the chain content is valid, otherwise someone has tampered it. \n",
    "\n",
    "+ Why might the GET REST API run into scalability problems? Express the scalability behaviour of execution times of GET and POST requests in **Big O** notation in relation to the number of transactions recorded in the Block Chain! Draw execution time vs transactions for GET and POST requests. \n",
    "\n",
    "Blockchains usually save transactions which are validated, and their data, in a hash table. Since GET method is a way to look up for an already existing resource in an hash table, it looks like a \"search operation\" which we know to have time complexity, on average, equal to $\\mathcal{O}(1+n/k)$, where $n/k$ is the so called *load factor* proportional to the number of entries $n$, hence this might lead to scalability issues for large $n$.\n",
    "\n",
    "1. GET transactions have time complexity, on average, $\\mathcal{O}(1+n/k)$. In worst cases, however: $\\mathcal{O}(n)$, namely when we have only a single bucket $(k=1)$.\n",
    "2. POST transactions, instead, are equall to add some entries to the hash table and ideally this is independent on the number of entries (unless some sort of indexing is present). Therefore $\\mathcal{O}(1)$."
   ]
  },
  {
   "cell_type": "code",
   "execution_count": 78,
   "metadata": {},
   "outputs": [
    {
     "data": {
      "image/png": "[encoded data removed]",
      "text/plain": [
       "<Figure size 432x288 with 1 Axes>"
      ]
     },
     "metadata": {
      "needs_background": "light"
     },
     "output_type": "display_data"
    }
   ],
   "source": [
    "#here we assume k to be \"10\", namely a total of 10 buckets (or chunks/indexes)\n",
    "n = np.arange(0.01, 1000, step = 0.01)\n",
    "const = np.array([5 for i in n])\n",
    "search_av = np.array([5 + i/10 for i in n ])\n",
    "\n",
    "plt.plot(n, const, label = \"POST\")\n",
    "plt.plot(n, search_av, label = \"GET (average)\")\n",
    "plt.plot(n, n, label = \"GET (worst case)\")\n",
    "plt.xlabel(\"n\")\n",
    "plt.ylabel(\"time\")\n",
    "plt.legend()\n",
    "plt.title(\"Time efficiency for GET and POST methods\")\n",
    "plt.show()"
   ]
  },
  {
   "cell_type": "markdown",
   "metadata": {},
   "source": [
    "+ If the Crypto server goes down, the way it is implemented it loses the current account balances. How can the server recompute the account balances after a restart from the saved Block Chain?\n",
    "\n",
    "If we have knowledge of the starting conditions of the Block Chain (namely account balances and starting hash at time 0), one can easily reconstruct and validate all the others blocks of the chain by computing hashes using the necessary information (team that requested transactions, from whom, how much etc...), thus finding matching hashes in the block chain and being able to successfully reconstruct it in a sequential and chronologically ordered way (exploiting timestamps as well). In this way, one should be able to find current users' balances.\n",
    "\n",
    "+ What are the advantages of using a REST API and JSON in a client-server architecture? What are possible disadvantages?\n",
    "\n",
    "A REST/RESTful API is useful since it is horizontally scalable, given that the server does not store user's session: it simply returns its state according to the requests made (indeed resources can be modified by DELETE, PATCH, POST etc...). Users' sessions are handled directly by the clients themselves, but in case of too much traffic a network-load balancer can be exploited. Communication between client and server occurs using easy-to-manage formats, such as JSON or XML, specially for back-ends application which many times are written in NodeJS, Python (Flask), or other versatile languages for this purpose.\n",
    "The price to pay might be a bandwith cost involved in the communication server-user which sometimes might appear redundant: we are indeed forced to send again the same information every time we make any request, thus sending many times the same information, for example in the case of a *session token*. However one should notice that this really helps the server in not storing every user's information thus occupying less memory, and costs therefore are somehow negligible compared to advantages."
   ]
  },
  {
   "cell_type": "code",
   "execution_count": null,
   "metadata": {},
   "outputs": [],
   "source": []
  }
 ],
 "metadata": {
  "kernelspec": {
   "display_name": "Python 3",
   "language": "python",
   "name": "python3"
  },
  "language_info": {
   "codemirror_mode": {
    "name": "ipython",
    "version": 3
   },
   "file_extension": ".py",
   "mimetype": "text/x-python",
   "name": "python",
   "nbconvert_exporter": "python",
   "pygments_lexer": "ipython3",
   "version": "3.8.5"
  }
 },
 "nbformat": 4,
 "nbformat_minor": 4
}
